{
 "cells": [
  {
   "cell_type": "markdown",
   "metadata": {},
   "source": [
    "#Logistic Regression for Credit Data"
   ]
  },
  {
   "cell_type": "code",
   "execution_count": 18,
   "metadata": {
    "collapsed": false
   },
   "outputs": [],
   "source": [
    "import pandas as pd\n",
    "import numpy as np\n",
    "from sklearn.linear_model import LogisticRegression\n",
    "from sklearn.linear_model import LogisticRegressionCV\n",
    "from sklearn.cross_validation import cross_val_score, ShuffleSplit\n",
    "from sklearn.preprocessing import StandardScaler\n",
    "import sklearn as sk\n",
    "import pyroc"
   ]
  },
  {
   "cell_type": "code",
   "execution_count": 19,
   "metadata": {
    "collapsed": false
   },
   "outputs": [],
   "source": [
    "from scipy.stats import sem\n",
    "\n",
    "def mean_score(scores):\n",
    "    return ('Mean score: {0:.8f} (+/-{1:.5f})').format(np.mean(scores), sem(scores))"
   ]
  },
  {
   "cell_type": "markdown",
   "metadata": {
    "collapsed": true
   },
   "source": [
    "##Cleaned Data"
   ]
  },
  {
   "cell_type": "code",
   "execution_count": 20,
   "metadata": {
    "collapsed": true
   },
   "outputs": [],
   "source": [
    "def test_log_reg(df):\n",
    "    lr = LogisticRegression()\n",
    "    train, test = sk.cross_validation.train_test_split(df, train_size=0.75)\n",
    "    y = train['SeriousDlqin2yrs']\n",
    "    X = train.drop('SeriousDlqin2yrs', axis=1)\n",
    "    scaler = StandardScaler()\n",
    "    X = scaler.fit_transform(X)\n",
    "    y_test = test['SeriousDlqin2yrs']\n",
    "    X_test = test.drop('SeriousDlqin2yrs', 1)\n",
    "    X_test = scaler.fit_transform(X_test)\n",
    "    lr.fit(X, y)\n",
    "    probas = lr.predict_proba(X_test)\n",
    "    print 'roc auc score: ' + str(sk.metrics.roc_auc_score(y_test, probas.T[1]))\n",
    "    print 'Accuracy: ' + str(lr.score(X_test, y_test))"
   ]
  },
  {
   "cell_type": "code",
   "execution_count": 21,
   "metadata": {
    "collapsed": true
   },
   "outputs": [],
   "source": [
    "def test_log_reg_cv(df):\n",
    "    train, test = sk.cross_validation.train_test_split(df, train_size=0.75)\n",
    "    y = train['SeriousDlqin2yrs']\n",
    "    X = train.drop('SeriousDlqin2yrs', axis=1)\n",
    "    scaler = StandardScaler()\n",
    "    X = scaler.fit_transform(X)\n",
    "    y_test = test['SeriousDlqin2yrs']\n",
    "    X_test = test.drop('SeriousDlqin2yrs', 1)\n",
    "    X_test = scaler.fit_transform(X_test)\n",
    "    cv_lr = ShuffleSplit(X.shape[0], n_iter=10, test_size=0.25, random_state=1)\n",
    "    lr_cv = LogisticRegressionCV(cv=cv_lr)\n",
    "    lr_cv.fit(X,y)\n",
    "    probas = lr_cv.predict_proba(X_test)\n",
    "    print 'roc auc score: ' + str(sk.metrics.roc_auc_score(y_test, lr_cv.predict_proba(X_test).T[1]))\n",
    "    print 'Accuracy: ' + str(lr_cv.score(X_test, y_test))"
   ]
  },
  {
   "cell_type": "code",
   "execution_count": 22,
   "metadata": {
    "collapsed": true
   },
   "outputs": [],
   "source": [
    "def test_both(df):\n",
    "    print 'Without CV:'\n",
    "    test_log_reg(df)\n",
    "    print '\\nWith CV:'\n",
    "    test_log_reg_cv(df)"
   ]
  },
  {
   "cell_type": "markdown",
   "metadata": {},
   "source": [
    "##Cleaned Data"
   ]
  },
  {
   "cell_type": "code",
   "execution_count": 23,
   "metadata": {
    "collapsed": false
   },
   "outputs": [
    {
     "name": "stdout",
     "output_type": "stream",
     "text": [
      "Without CV:\n",
      "roc auc score: 0.691823983618\n",
      "Accuracy: 0.932297655018\n",
      "\n",
      "With CV:\n",
      "roc auc score: 0.698367311676\n",
      "Accuracy: 0.93307307682\n"
     ]
    }
   ],
   "source": [
    "df_clean = pd.read_csv('data/cs-train_clean.csv').drop(['Unnamed: 0'], axis=1)\n",
    "test_both(df_clean)"
   ]
  },
  {
   "cell_type": "markdown",
   "metadata": {
    "collapsed": true
   },
   "source": [
    "##Cropped Data"
   ]
  },
  {
   "cell_type": "code",
   "execution_count": 198,
   "metadata": {
    "collapsed": false
   },
   "outputs": [
    {
     "name": "stdout",
     "output_type": "stream",
     "text": [
      "Without CV:\n",
      "roc auc score: 0.677029551951\n",
      "Accuracy: 0.929526406811\n",
      "\n",
      "With CV:\n",
      "roc auc score: 0.69058125882\n",
      "Accuracy: 0.932253558601\n"
     ]
    }
   ],
   "source": [
    "df_cropped = pd.read_csv('data/cs-train_cropped.csv').drop(['Unnamed: 0'], axis=1)\n",
    "test_both(df_cropped)"
   ]
  },
  {
   "cell_type": "markdown",
   "metadata": {},
   "source": [
    "##Oversampled Data"
   ]
  },
  {
   "cell_type": "code",
   "execution_count": 199,
   "metadata": {
    "collapsed": false
   },
   "outputs": [
    {
     "name": "stdout",
     "output_type": "stream",
     "text": [
      "Without CV:\n",
      "roc auc score: 0.796312845586\n",
      "Accuracy: 0.728105333793\n",
      "\n",
      "With CV:\n",
      "roc auc score: 0.796431627544\n",
      "Accuracy: 0.721104844121\n"
     ]
    }
   ],
   "source": [
    "df_oversampled = pd.read_csv('data/cs-train_oversampled.csv').drop(['Unnamed: 0'], axis=1)\n",
    "test_both(df_oversampled)"
   ]
  },
  {
   "cell_type": "markdown",
   "metadata": {},
   "source": [
    "##Undersampled Data"
   ]
  },
  {
   "cell_type": "code",
   "execution_count": 201,
   "metadata": {
    "collapsed": false
   },
   "outputs": [
    {
     "name": "stdout",
     "output_type": "stream",
     "text": [
      "Without CV:\n",
      "roc auc score: 0.797534120528\n",
      "Accuracy: 0.72098588179\n",
      "\n",
      "With CV:\n",
      "roc auc score: 0.803146268055\n",
      "Accuracy: 0.72098588179\n"
     ]
    }
   ],
   "source": [
    "df_undersampled = pd.read_csv('data/cs-train_undersampled.csv').drop(['Unnamed: 0'], axis=1)\n",
    "test_both(df_undersampled)"
   ]
  },
  {
   "cell_type": "code",
   "execution_count": null,
   "metadata": {
    "collapsed": true
   },
   "outputs": [],
   "source": []
  }
 ],
 "metadata": {
  "kernelspec": {
   "display_name": "Python 2",
   "language": "python",
   "name": "python2"
  },
  "language_info": {
   "codemirror_mode": {
    "name": "ipython",
    "version": 2
   },
   "file_extension": ".py",
   "mimetype": "text/x-python",
   "name": "python",
   "nbconvert_exporter": "python",
   "pygments_lexer": "ipython2",
   "version": "2.7.10"
  }
 },
 "nbformat": 4,
 "nbformat_minor": 0
}
