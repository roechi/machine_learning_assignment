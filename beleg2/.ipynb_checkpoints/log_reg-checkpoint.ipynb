{
 "cells": [
  {
   "cell_type": "markdown",
   "metadata": {},
   "source": [
    "#Logistic Regression for Credit Data"
   ]
  },
  {
   "cell_type": "code",
   "execution_count": 187,
   "metadata": {
    "collapsed": false
   },
   "outputs": [],
   "source": [
    "import pandas as pd\n",
    "import numpy as np\n",
    "from sklearn.linear_model import LogisticRegression\n",
    "from sklearn.linear_model import LogisticRegressionCV\n",
    "from sklearn.cross_validation import cross_val_score, ShuffleSplit\n",
    "import sklearn as sk\n",
    "import pyroc"
   ]
  },
  {
   "cell_type": "code",
   "execution_count": 188,
   "metadata": {
    "collapsed": false
   },
   "outputs": [],
   "source": [
    "from scipy.stats import sem\n",
    "\n",
    "def mean_score(scores):\n",
    "    return ('Mean score: {0:.8f} (+/-{1:.5f})').format(np.mean(scores), sem(scores))"
   ]
  },
  {
   "cell_type": "markdown",
   "metadata": {
    "collapsed": true
   },
   "source": [
    "##Cleaned Data"
   ]
  },
  {
   "cell_type": "code",
   "execution_count": 189,
   "metadata": {
    "collapsed": true
   },
   "outputs": [],
   "source": [
    "def test_log_reg(df):\n",
    "    lr = LogisticRegression()\n",
    "    train, test = sk.cross_validation.train_test_split(df, train_size=0.75)\n",
    "    y = train['SeriousDlqin2yrs']\n",
    "    X = train.drop('SeriousDlqin2yrs', axis=1)\n",
    "    y_test = test['SeriousDlqin2yrs']\n",
    "    X_test = test.drop('SeriousDlqin2yrs', 1)\n",
    "    lr.fit(X, y)\n",
    "    probas = lr.predict_proba(X_test)\n",
    "    print 'roc auc score: ' + str(sk.metrics.roc_auc_score(y_test, probas.T[1]))\n",
    "    print 'Accuracy: ' + str(lr.score(X_test, y_test))"
   ]
  },
  {
   "cell_type": "code",
   "execution_count": 190,
   "metadata": {
    "collapsed": true
   },
   "outputs": [],
   "source": [
    "def test_log_reg_cv(df):\n",
    "    train, test = sk.cross_validation.train_test_split(df, train_size=0.75)\n",
    "    y = train['SeriousDlqin2yrs']\n",
    "    X = train.drop('SeriousDlqin2yrs', axis=1)\n",
    "    y_test = test['SeriousDlqin2yrs']\n",
    "    X_test = test.drop('SeriousDlqin2yrs', 1)\n",
    "    cv_lr = ShuffleSplit(X.shape[0], n_iter=10, test_size=0.25, random_state=1)\n",
    "    lr_cv = LogisticRegressionCV(cv=cv_lr)\n",
    "    lr_cv.fit(X,y)\n",
    "    probas = lr.predict_proba(X_test)\n",
    "    print 'roc auc score: ' + str(sk.metrics.roc_auc_score(y_test, lr_cv.predict_proba(X_test).T[1]))\n",
    "    print 'Accuracy: ' + str(lr_cv.score(X_test, y_test))"
   ]
  },
  {
   "cell_type": "code",
   "execution_count": null,
   "metadata": {
    "collapsed": true
   },
   "outputs": [],
   "source": [
    "def test_both(df):\n",
    "    print 'Without CV:'\n",
    "    test_log_reg(df)\n",
    "    print '\\nWith CV:'\n",
    "    test_log_reg_cv(df)"
   ]
  },
  {
   "cell_type": "markdown",
   "metadata": {},
   "source": [
    "###Logistic Regression without cross validation"
   ]
  },
  {
   "cell_type": "code",
   "execution_count": 191,
   "metadata": {
    "collapsed": false
   },
   "outputs": [
    {
     "name": "stdout",
     "output_type": "stream",
     "text": [
      "roc auc score: 0.695075499257\n",
      "Accuracy: 0.933393941014\n"
     ]
    }
   ],
   "source": [
    "df = pd.read_csv('data/cs-train_clean.csv')\n",
    "df = df.drop(['Unnamed: 0'], axis=1)\n",
    "test_log_reg(df)"
   ]
  },
  {
   "cell_type": "markdown",
   "metadata": {},
   "source": [
    "###Logistic Regression with cross validation"
   ]
  },
  {
   "cell_type": "code",
   "execution_count": 192,
   "metadata": {
    "collapsed": false
   },
   "outputs": [
    {
     "name": "stdout",
     "output_type": "stream",
     "text": [
      "roc auc score: 0.690077439267\n",
      "Accuracy: 0.93195005214\n"
     ]
    }
   ],
   "source": [
    "test_log_reg_cv(df)"
   ]
  },
  {
   "cell_type": "markdown",
   "metadata": {
    "collapsed": true
   },
   "source": [
    "##Cropped Data"
   ]
  },
  {
   "cell_type": "code",
   "execution_count": 195,
   "metadata": {
    "collapsed": false
   },
   "outputs": [
    {
     "name": "stdout",
     "output_type": "stream",
     "text": [
      "Without CV:\n",
      "roc auc score: 0.685463912666\n",
      "Accuracy: 0.931156046295\n",
      "\n",
      "With CV:\n",
      "roc auc score: 0.680781463925\n",
      "Accuracy: 0.930357855527\n"
     ]
    }
   ],
   "source": [
    "df_cropped = pd.read_csv('data/cs-train_cropped.csv').drop(['Unnamed: 0'], axis=1)\n",
    "print 'Without CV:'\n",
    "test_log_reg(df_cropped)\n",
    "print '\\nWith CV:'\n",
    "test_log_reg_cv(df_cropped)"
   ]
  },
  {
   "cell_type": "markdown",
   "metadata": {},
   "source": [
    "##Oversampled Data"
   ]
  },
  {
   "cell_type": "code",
   "execution_count": 155,
   "metadata": {
    "collapsed": false
   },
   "outputs": [],
   "source": [
    "df_oversampled = pd.read_csv('data/cs-train_oversampled.csv').drop(['Unnamed: 0'], axis=1)\n",
    "test_lr(df_oversampled)"
   ]
  },
  {
   "cell_type": "code",
   "execution_count": 149,
   "metadata": {
    "collapsed": false
   },
   "outputs": [
    {
     "name": "stdout",
     "output_type": "stream",
     "text": [
      "roc auc score: 0.800933318379\n",
      "Accuracy: 0.733509856907\n"
     ]
    }
   ],
   "source": [
    "train, test = sk.cross_validation.train_test_split(df, train_size=0.75)\n",
    "y = train['SeriousDlqin2yrs']\n",
    "X = train.drop('SeriousDlqin2yrs', axis=1)\n",
    "LR = LogisticRegression(penalty = 'l1', tol = 0.01)\n",
    "LR.fit(X, y)\n",
    "y_test = test['SeriousDlqin2yrs']\n",
    "X_test = test.drop('SeriousDlqin2yrs', 1)\n",
    "X_test = X_test.fillna(X_test.mean())\n",
    "probas = LR.predict_proba(X_test)\n",
    "print 'roc auc score: ' + str(sk.metrics.roc_auc_score(y_test, probas.T[1]))\n",
    "print 'Accuracy: ' + str(LR.score(X_test, y_test))"
   ]
  },
  {
   "cell_type": "code",
   "execution_count": 150,
   "metadata": {
    "collapsed": true
   },
   "outputs": [],
   "source": [
    "lr = LogisticRegression(penalty='l1', tol=0.01)\n",
    "cv_lr = ShuffleSplit(X.shape[0], n_iter=10, test_size=0.25, random_state=1)"
   ]
  },
  {
   "cell_type": "code",
   "execution_count": 151,
   "metadata": {
    "collapsed": false
   },
   "outputs": [
    {
     "data": {
      "text/plain": [
       "array([ 0.72972385,  0.7312231 ,  0.72699134,  0.73144073,  0.72355758,\n",
       "        0.72786188,  0.7296513 ,  0.7275717 ,  0.73315761,  0.73269817])"
      ]
     },
     "execution_count": 151,
     "metadata": {},
     "output_type": "execute_result"
    }
   ],
   "source": [
    "test_scores_lr = cross_val_score(lr, X, y, cv=cv_lr)\n",
    "test_scores_lr"
   ]
  },
  {
   "cell_type": "code",
   "execution_count": 152,
   "metadata": {
    "collapsed": false
   },
   "outputs": [
    {
     "name": "stdout",
     "output_type": "stream",
     "text": [
      "Mean score: 0.72938773 (+/-0.00093)\n"
     ]
    }
   ],
   "source": [
    "print mean_score(test_scores_lr)"
   ]
  },
  {
   "cell_type": "code",
   "execution_count": 153,
   "metadata": {
    "collapsed": false
   },
   "outputs": [
    {
     "name": "stdout",
     "output_type": "stream",
     "text": [
      "roc auc score: 0.799122237028\n",
      "Accuracy: 0.726346143383\n"
     ]
    }
   ],
   "source": [
    "lr_cv = LogisticRegressionCV( tol=0.1, cv=cv_lr)\n",
    "lr_cv.fit(X,y)\n",
    "print 'roc auc score: ' + str(sk.metrics.roc_auc_score(y_test, lr_cv.predict_proba(X_test).T[1]))\n",
    "print 'Accuracy: ' + str(lr_cv.score(X_test, y_test))"
   ]
  },
  {
   "cell_type": "markdown",
   "metadata": {},
   "source": [
    "##Undersampled Data"
   ]
  },
  {
   "cell_type": "code",
   "execution_count": 163,
   "metadata": {
    "collapsed": true
   },
   "outputs": [],
   "source": [
    "df = pd.read_csv('data/cs-train_undersampled.csv')\n",
    "df = df.drop(['Unnamed: 0'], axis=1)\n",
    "X = df.drop('SeriousDlqin2yrs', axis=1)\n",
    "y = df.SeriousDlqin2yrs"
   ]
  },
  {
   "cell_type": "code",
   "execution_count": 164,
   "metadata": {
    "collapsed": false
   },
   "outputs": [
    {
     "name": "stdout",
     "output_type": "stream",
     "text": [
      "roc auc score: 0.801649496626\n",
      "Accuracy: 0.737497008854\n"
     ]
    }
   ],
   "source": [
    "train, test = sk.cross_validation.train_test_split(df, train_size=0.75)\n",
    "y = train['SeriousDlqin2yrs']\n",
    "X = train.drop('SeriousDlqin2yrs', axis=1)\n",
    "LR = LogisticRegression(penalty = 'l1', tol = 0.01)\n",
    "LR.fit(X, y)\n",
    "y_test = test['SeriousDlqin2yrs']\n",
    "X_test = test.drop('SeriousDlqin2yrs', 1)\n",
    "X_test = X_test.fillna(X_test.mean())\n",
    "probas = LR.predict_proba(X_test)\n",
    "print 'roc auc score: ' + str(sk.metrics.roc_auc_score(y_test, probas.T[1]))\n",
    "print 'Accuracy: ' + str(LR.score(X_test, y_test))"
   ]
  },
  {
   "cell_type": "code",
   "execution_count": 165,
   "metadata": {
    "collapsed": true
   },
   "outputs": [],
   "source": [
    "lr = LogisticRegression(penalty='l1', tol=0.01)\n",
    "cv_lr = ShuffleSplit(X.shape[0], n_iter=10, test_size=0.25, random_state=1)"
   ]
  },
  {
   "cell_type": "code",
   "execution_count": 166,
   "metadata": {
    "collapsed": false
   },
   "outputs": [
    {
     "data": {
      "text/plain": [
       "array([ 0.74218251,  0.73005743,  0.73388641,  0.71952776,  0.72590938,\n",
       "        0.74313976,  0.73133376,  0.73771538,  0.7373963 ,  0.72080408])"
      ]
     },
     "execution_count": 166,
     "metadata": {},
     "output_type": "execute_result"
    }
   ],
   "source": [
    "test_scores_lr = cross_val_score(lr, X, y, cv=cv_lr)\n",
    "test_scores_lr"
   ]
  },
  {
   "cell_type": "code",
   "execution_count": 167,
   "metadata": {
    "collapsed": false
   },
   "outputs": [
    {
     "name": "stdout",
     "output_type": "stream",
     "text": [
      "Mean score: 0.73219528 (+/-0.00261)\n"
     ]
    }
   ],
   "source": [
    "print mean_score(test_scores_lr)"
   ]
  },
  {
   "cell_type": "code",
   "execution_count": 168,
   "metadata": {
    "collapsed": false
   },
   "outputs": [
    {
     "name": "stdout",
     "output_type": "stream",
     "text": [
      "roc auc score: 0.800377604996\n",
      "Accuracy: 0.736300550371\n"
     ]
    }
   ],
   "source": [
    "lr_cv = LogisticRegressionCV( tol=0.1, cv=cv_lr)\n",
    "lr_cv.fit(X,y)\n",
    "print 'roc auc score: ' + str(sk.metrics.roc_auc_score(y_test, lr_cv.predict_proba(X_test).T[1]))\n",
    "print 'Accuracy: ' + str(lr_cv.score(X_test, y_test))"
   ]
  },
  {
   "cell_type": "code",
   "execution_count": null,
   "metadata": {
    "collapsed": true
   },
   "outputs": [],
   "source": []
  }
 ],
 "metadata": {
  "kernelspec": {
   "display_name": "Python 2",
   "language": "python",
   "name": "python2"
  },
  "language_info": {
   "codemirror_mode": {
    "name": "ipython",
    "version": 2
   },
   "file_extension": ".py",
   "mimetype": "text/x-python",
   "name": "python",
   "nbconvert_exporter": "python",
   "pygments_lexer": "ipython2",
   "version": "2.7.10"
  }
 },
 "nbformat": 4,
 "nbformat_minor": 0
}
