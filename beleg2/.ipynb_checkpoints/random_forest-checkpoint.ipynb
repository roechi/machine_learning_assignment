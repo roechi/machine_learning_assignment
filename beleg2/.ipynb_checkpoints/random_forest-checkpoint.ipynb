{
 "cells": [
  {
   "cell_type": "markdown",
   "metadata": {},
   "source": [
    "#Random Forest Classifier"
   ]
  },
  {
   "cell_type": "code",
   "execution_count": 7,
   "metadata": {
    "collapsed": false
   },
   "outputs": [],
   "source": [
    "from sklearn.ensemble import RandomForestClassifier\n",
    "from sklearn.cross_validation import train_test_split\n",
    "from sklearn.metrics import roc_auc_score\n",
    "from sklearn.preprocessing import StandardScaler\n",
    "from sklearn.cross_validation import cross_val_score, ShuffleSplit\n",
    "import pandas as pd\n",
    "import numpy as np\n",
    "from pprint import pprint\n",
    "from print_scores import print_scores"
   ]
  },
  {
   "cell_type": "code",
   "execution_count": 8,
   "metadata": {
    "collapsed": true
   },
   "outputs": [],
   "source": [
    "def random_forest_cv(df, n_iter, n_estimators):\n",
    "    X = df.drop('SeriousDlqin2yrs', axis=1)\n",
    "    scaler = StandardScaler()\n",
    "    X = scaler.fit_transform(X)\n",
    "    y = df.SeriousDlqin2yrs\n",
    "    auc_scores = cross_val_score(RandomForestClassifier(n_estimators=n_estimators), X, y, scoring='roc_auc', cv=n_iter, n_jobs=-1)\n",
    "    acc_scores = cross_val_score(RandomForestClassifier(n_estimators=n_estimators), X, y, scoring='accuracy', cv=n_iter, n_jobs=-1)\n",
    "    print print_scores(\"Accuracy: \", acc_scores)    \n",
    "    print print_scores(\"ROC AUC: \" , auc_scores)"
   ]
  },
  {
   "cell_type": "code",
   "execution_count": 9,
   "metadata": {
    "collapsed": false
   },
   "outputs": [
    {
     "name": "stdout",
     "output_type": "stream",
     "text": [
      "Accuracy:  0.93570641 (+/-0.00127)\n",
      "ROC AUC:  0.84033864 (+/-0.00531)\n"
     ]
    }
   ],
   "source": [
    "df = pd.read_csv('./data/cs-train_clean.csv').drop(['Unnamed: 0'], axis=1)\n",
    "random_forest_cv(df, 10, 100)"
   ]
  },
  {
   "cell_type": "markdown",
   "metadata": {},
   "source": [
    "The Random Forest Classifier also gives us feature importances. Features sorted by importance:"
   ]
  },
  {
   "cell_type": "code",
   "execution_count": 11,
   "metadata": {
    "collapsed": false
   },
   "outputs": [
    {
     "name": "stdout",
     "output_type": "stream",
     "text": [
      "RevolvingUtilizationOfUnsecuredLines\n",
      "DebtRatio\n",
      "MonthlyIncome\n",
      "age\n",
      "NumberOfOpenCreditLinesAndLoans\n",
      "NumberOfTimes90DaysLate\n",
      "NumberOfTime30-59DaysPastDueNotWorse\n",
      "NumberOfTime60-89DaysPastDueNotWorse\n",
      "NumberRealEstateLoansOrLines\n",
      "NumberOfDependents\n"
     ]
    }
   ],
   "source": [
    "print df.columns[1]\n",
    "print df.columns[4]\n",
    "print df.columns[5]\n",
    "print df.columns[2]\n",
    "print df.columns[6]\n",
    "print df.columns[7]\n",
    "print df.columns[3]\n",
    "print df.columns[9]\n",
    "print df.columns[8]\n",
    "print df.columns[10]"
   ]
  },
  {
   "cell_type": "markdown",
   "metadata": {
    "collapsed": true
   },
   "source": [
    "##Cropped Data"
   ]
  },
  {
   "cell_type": "code",
   "execution_count": 10,
   "metadata": {
    "collapsed": false
   },
   "outputs": [
    {
     "name": "stdout",
     "output_type": "stream",
     "text": [
      "Accuracy:  0.84794846 (+/-0.25748)\n",
      "ROC AUC:  0.77564735 (+/-0.17118)\n"
     ]
    }
   ],
   "source": [
    "df_cropped = pd.read_csv('./data/cs-train_cropped.csv')\n",
    "random_forest_cv(df_cropped, 10, 100)"
   ]
  },
  {
   "cell_type": "markdown",
   "metadata": {},
   "source": [
    "##Oversampled Data"
   ]
  },
  {
   "cell_type": "code",
   "execution_count": 12,
   "metadata": {
    "collapsed": false
   },
   "outputs": [
    {
     "name": "stdout",
     "output_type": "stream",
     "text": [
      "Accuracy:  0.78727052 (+/-0.17876)\n",
      "ROC AUC:  0.99710297 (+/-0.00591)\n"
     ]
    }
   ],
   "source": [
    "df_oversampled = pd.read_csv('./data/cs-train_oversampled.csv')\n",
    "random_forest_cv(df_oversampled, 10, 100)"
   ]
  },
  {
   "cell_type": "markdown",
   "metadata": {},
   "source": [
    "##Undersampled Data"
   ]
  },
  {
   "cell_type": "code",
   "execution_count": 11,
   "metadata": {
    "collapsed": false
   },
   "outputs": [
    {
     "name": "stdout",
     "output_type": "stream",
     "text": [
      "Accuracy:  0.63133705 (+/-0.12076)\n",
      "ROC AUC:  0.66327441 (+/-0.19364)\n"
     ]
    }
   ],
   "source": [
    "df_undersampled = pd.read_csv('./data/cs-train_undersampled.csv')\n",
    "random_forest_cv(df_undersampled, 10, 100)"
   ]
  },
  {
   "cell_type": "code",
   "execution_count": null,
   "metadata": {
    "collapsed": true
   },
   "outputs": [],
   "source": []
  },
  {
   "cell_type": "code",
   "execution_count": null,
   "metadata": {
    "collapsed": true
   },
   "outputs": [],
   "source": []
  }
 ],
 "metadata": {
  "kernelspec": {
   "display_name": "Python 2",
   "language": "python",
   "name": "python2"
  },
  "language_info": {
   "codemirror_mode": {
    "name": "ipython",
    "version": 2
   },
   "file_extension": ".py",
   "mimetype": "text/x-python",
   "name": "python",
   "nbconvert_exporter": "python",
   "pygments_lexer": "ipython2",
   "version": "2.7.10"
  }
 },
 "nbformat": 4,
 "nbformat_minor": 0
}
