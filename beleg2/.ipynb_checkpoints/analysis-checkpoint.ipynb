{
 "cells": [
  {
   "cell_type": "code",
   "execution_count": 1,
   "metadata": {
    "collapsed": false
   },
   "outputs": [],
   "source": [
    "%matplotlib inline\n",
    "\n",
    "import matplotlib.pyplot as plt\n",
    "import matplotlib\n",
    "matplotlib.style.use('ggplot')\n",
    "from mpl_toolkits.mplot3d import Axes3D\n",
    "import pandas as pd\n",
    "import numpy as np"
   ]
  },
  {
   "cell_type": "code",
   "execution_count": 2,
   "metadata": {
    "collapsed": true
   },
   "outputs": [],
   "source": [
    "df = pd.read_csv(\"./data/cs-training.csv\")"
   ]
  },
  {
   "cell_type": "code",
   "execution_count": 55,
   "metadata": {
    "collapsed": false
   },
   "outputs": [
    {
     "data": {
      "text/plain": [
       "<bound method DataFrame.describe of         Unnamed: 0  SeriousDlqin2yrs  RevolvingUtilizationOfUnsecuredLines  \\\n",
       "0                1                 1                              0.766127   \n",
       "1                2                 0                              0.957151   \n",
       "2                3                 0                              0.658180   \n",
       "3                4                 0                              0.233810   \n",
       "4                5                 0                              0.907239   \n",
       "5                6                 0                              0.213179   \n",
       "6                7                 0                              0.305682   \n",
       "7                8                 0                              0.754464   \n",
       "8                9                 0                              0.116951   \n",
       "9               10                 0                              0.189169   \n",
       "10              11                 0                              0.644226   \n",
       "11              12                 0                              0.018798   \n",
       "12              13                 0                              0.010352   \n",
       "13              14                 1                              0.964673   \n",
       "14              15                 0                              0.019657   \n",
       "15              16                 0                              0.548458   \n",
       "16              17                 0                              0.061086   \n",
       "17              18                 0                              0.166284   \n",
       "18              19                 0                              0.221813   \n",
       "19              20                 0                              0.602794   \n",
       "20              21                 0                              0.200923   \n",
       "21              22                 1                              0.025656   \n",
       "22              23                 0                              1.000000   \n",
       "23              24                 0                              0.075427   \n",
       "24              25                 0                              0.046560   \n",
       "25              26                 1                              0.392248   \n",
       "26              27                 0                              0.052436   \n",
       "27              28                 0                              0.034421   \n",
       "28              29                 0                              0.452516   \n",
       "29              30                 0                              0.392995   \n",
       "...            ...               ...                                   ...   \n",
       "149970      149971                 0                              0.025449   \n",
       "149971      149972                 0                              0.058001   \n",
       "149972      149973                 0                              0.071273   \n",
       "149973      149974                 0                              1.026395   \n",
       "149974      149975                 0                              0.962721   \n",
       "149975      149976                 0                              0.022088   \n",
       "149976      149977                 0                              0.000627   \n",
       "149977      149978                 0                              0.236450   \n",
       "149978      149979                 0                              0.917635   \n",
       "149979      149980                 1                              0.224711   \n",
       "149980      149981                 0                              0.067644   \n",
       "149981      149982                 0                              0.810012   \n",
       "149982      149983                 0                              0.021046   \n",
       "149983      149984                 0                              0.002485   \n",
       "149984      149985                 0                              0.037548   \n",
       "149985      149986                 0                              0.954409   \n",
       "149986      149987                 0                              0.168102   \n",
       "149987      149988                 0                              1.000000   \n",
       "149988      149989                 0                              0.902051   \n",
       "149989      149990                 0                              0.013356   \n",
       "149990      149991                 0                              0.055518   \n",
       "149991      149992                 0                              0.104112   \n",
       "149992      149993                 0                              0.871976   \n",
       "149993      149994                 0                              1.000000   \n",
       "149994      149995                 0                              0.385742   \n",
       "149995      149996                 0                              0.040674   \n",
       "149996      149997                 0                              0.299745   \n",
       "149997      149998                 0                              0.246044   \n",
       "149998      149999                 0                              0.000000   \n",
       "149999      150000                 0                              0.850283   \n",
       "\n",
       "        age  NumberOfTime30-59DaysPastDueNotWorse    DebtRatio  MonthlyIncome  \\\n",
       "0        45                                     2     0.802982           9120   \n",
       "1        40                                     0     0.121876           2600   \n",
       "2        38                                     1     0.085113           3042   \n",
       "3        30                                     0     0.036050           3300   \n",
       "4        49                                     1     0.024926          63588   \n",
       "5        74                                     0     0.375607           3500   \n",
       "6        57                                     0  5710.000000            NaN   \n",
       "7        39                                     0     0.209940           3500   \n",
       "8        27                                     0    46.000000            NaN   \n",
       "9        57                                     0     0.606291          23684   \n",
       "10       30                                     0     0.309476           2500   \n",
       "11       51                                     0     0.531529           6501   \n",
       "12       46                                     0     0.298354          12454   \n",
       "13       40                                     3     0.382965          13700   \n",
       "14       76                                     0   477.000000              0   \n",
       "15       64                                     0     0.209892          11362   \n",
       "16       78                                     0  2058.000000            NaN   \n",
       "17       53                                     0     0.188274           8800   \n",
       "18       43                                     0     0.527888           3280   \n",
       "19       25                                     0     0.065868            333   \n",
       "20       43                                     0     0.430046          12300   \n",
       "21       38                                     0     0.475841           3000   \n",
       "22       39                                     0     0.241104           2500   \n",
       "23       32                                     0     0.085512           7916   \n",
       "24       58                                     0     0.241622           2416   \n",
       "25       50                                     0     1.595253           4676   \n",
       "26       58                                     0     0.097672           8333   \n",
       "27       69                                     0     0.042383           2500   \n",
       "28       24                                     0     0.011761           3400   \n",
       "29       58                                     2     0.436103           5500   \n",
       "...     ...                                   ...          ...            ...   \n",
       "149970   58                                     0     0.253855          15500   \n",
       "149971   83                                     0     0.013997           5000   \n",
       "149972   42                                     0     0.008638           6945   \n",
       "149973   44                                     0     0.494819           5500   \n",
       "149974   61                                     2     0.603479           5000   \n",
       "149975   58                                     0  2716.000000            NaN   \n",
       "149976   76                                     0    60.000000            NaN   \n",
       "149977   29                                     0   349.000000            NaN   \n",
       "149978   52                                     2     0.259496           2500   \n",
       "149979   55                                     0     0.057235           8700   \n",
       "149980   64                                     0     0.254976           5525   \n",
       "149981   43                                     0     0.121752           6849   \n",
       "149982   37                                     0     0.250272           2760   \n",
       "149983   82                                     0     0.000800           5000   \n",
       "149984   84                                     0    25.000000            NaN   \n",
       "149985   26                                     0     0.324962           1950   \n",
       "149986   49                                     0     0.080384           5000   \n",
       "149987   28                                     0     0.055692           3249   \n",
       "149988   31                                     1     0.347924           7515   \n",
       "149989   62                                     0     0.001408           9233   \n",
       "149990   46                                     0     0.609779           4335   \n",
       "149991   59                                     0     0.477658          10316   \n",
       "149992   50                                     0  4132.000000            NaN   \n",
       "149993   22                                     0     0.000000            820   \n",
       "149994   50                                     0     0.404293           3400   \n",
       "149995   74                                     0     0.225131           2100   \n",
       "149996   44                                     0     0.716562           5584   \n",
       "149997   58                                     0  3870.000000            NaN   \n",
       "149998   30                                     0     0.000000           5716   \n",
       "149999   64                                     0     0.249908           8158   \n",
       "\n",
       "        NumberOfOpenCreditLinesAndLoans  NumberOfTimes90DaysLate  \\\n",
       "0                                    13                        0   \n",
       "1                                     4                        0   \n",
       "2                                     2                        1   \n",
       "3                                     5                        0   \n",
       "4                                     7                        0   \n",
       "5                                     3                        0   \n",
       "6                                     8                        0   \n",
       "7                                     8                        0   \n",
       "8                                     2                        0   \n",
       "9                                     9                        0   \n",
       "10                                    5                        0   \n",
       "11                                    7                        0   \n",
       "12                                   13                        0   \n",
       "13                                    9                        3   \n",
       "14                                    6                        0   \n",
       "15                                    7                        0   \n",
       "16                                   10                        0   \n",
       "17                                    7                        0   \n",
       "18                                    7                        0   \n",
       "19                                    2                        0   \n",
       "20                                   10                        0   \n",
       "21                                    7                        0   \n",
       "22                                    4                        0   \n",
       "23                                    6                        0   \n",
       "24                                    9                        0   \n",
       "25                                   14                        0   \n",
       "26                                   22                        0   \n",
       "27                                   17                        0   \n",
       "28                                    1                        0   \n",
       "29                                   15                        0   \n",
       "...                                 ...                      ...   \n",
       "149970                                7                        0   \n",
       "149971                                6                        0   \n",
       "149972                                3                        0   \n",
       "149973                                7                        0   \n",
       "149974                               11                        0   \n",
       "149975                                8                        0   \n",
       "149976                                5                        0   \n",
       "149977                                3                        0   \n",
       "149978                                4                        0   \n",
       "149979                                7                        0   \n",
       "149980                               12                        0   \n",
       "149981                                4                        0   \n",
       "149982                                8                        0   \n",
       "149983                                5                        0   \n",
       "149984                                5                        0   \n",
       "149985                                4                        0   \n",
       "149986                               16                        0   \n",
       "149987                                3                        1   \n",
       "149988                               10                        0   \n",
       "149989                                4                        0   \n",
       "149990                                7                        0   \n",
       "149991                               10                        0   \n",
       "149992                               11                        0   \n",
       "149993                                1                        0   \n",
       "149994                                7                        0   \n",
       "149995                                4                        0   \n",
       "149996                                4                        0   \n",
       "149997                               18                        0   \n",
       "149998                                4                        0   \n",
       "149999                                8                        0   \n",
       "\n",
       "        NumberRealEstateLoansOrLines  NumberOfTime60-89DaysPastDueNotWorse  \\\n",
       "0                                  6                                     0   \n",
       "1                                  0                                     0   \n",
       "2                                  0                                     0   \n",
       "3                                  0                                     0   \n",
       "4                                  1                                     0   \n",
       "5                                  1                                     0   \n",
       "6                                  3                                     0   \n",
       "7                                  0                                     0   \n",
       "8                                  0                                     0   \n",
       "9                                  4                                     0   \n",
       "10                                 0                                     0   \n",
       "11                                 2                                     0   \n",
       "12                                 2                                     0   \n",
       "13                                 1                                     1   \n",
       "14                                 1                                     0   \n",
       "15                                 1                                     0   \n",
       "16                                 2                                     0   \n",
       "17                                 0                                     0   \n",
       "18                                 1                                     0   \n",
       "19                                 0                                     0   \n",
       "20                                 2                                     0   \n",
       "21                                 1                                     0   \n",
       "22                                 0                                     0   \n",
       "23                                 0                                     0   \n",
       "24                                 1                                     0   \n",
       "25                                 3                                     0   \n",
       "26                                 1                                     0   \n",
       "27                                 0                                     0   \n",
       "28                                 0                                     0   \n",
       "29                                 1                                     0   \n",
       "...                              ...                                   ...   \n",
       "149970                             2                                     0   \n",
       "149971                             0                                     0   \n",
       "149972                             0                                     0   \n",
       "149973                             1                                     0   \n",
       "149974                             1                                     0   \n",
       "149975                             2                                     0   \n",
       "149976                             0                                     0   \n",
       "149977                             0                                     0   \n",
       "149978                             0                                     0   \n",
       "149979                             0                                     0   \n",
       "149980                             1                                     0   \n",
       "149981                             0                                     0   \n",
       "149982                             0                                     0   \n",
       "149983                             0                                     0   \n",
       "149984                             0                                     0   \n",
       "149985                             0                                     0   \n",
       "149986                             0                                     0   \n",
       "149987                             0                                     0   \n",
       "149988                             1                                     0   \n",
       "149989                             0                                     0   \n",
       "149990                             1                                     0   \n",
       "149991                             2                                     0   \n",
       "149992                             1                                     0   \n",
       "149993                             0                                     0   \n",
       "149994                             0                                     0   \n",
       "149995                             1                                     0   \n",
       "149996                             1                                     0   \n",
       "149997                             1                                     0   \n",
       "149998                             0                                     0   \n",
       "149999                             2                                     0   \n",
       "\n",
       "        NumberOfDependents  \n",
       "0                        2  \n",
       "1                        1  \n",
       "2                        0  \n",
       "3                        0  \n",
       "4                        0  \n",
       "5                        1  \n",
       "6                        0  \n",
       "7                        0  \n",
       "8                      NaN  \n",
       "9                        2  \n",
       "10                       0  \n",
       "11                       2  \n",
       "12                       2  \n",
       "13                       2  \n",
       "14                       0  \n",
       "15                       2  \n",
       "16                       0  \n",
       "17                       0  \n",
       "18                       2  \n",
       "19                       0  \n",
       "20                       0  \n",
       "21                       2  \n",
       "22                       0  \n",
       "23                       0  \n",
       "24                       0  \n",
       "25                       1  \n",
       "26                       0  \n",
       "27                       1  \n",
       "28                       0  \n",
       "29                       0  \n",
       "...                    ...  \n",
       "149970                   2  \n",
       "149971                   0  \n",
       "149972                   1  \n",
       "149973                   1  \n",
       "149974                   0  \n",
       "149975                   0  \n",
       "149976                   0  \n",
       "149977                   0  \n",
       "149978                   0  \n",
       "149979                   0  \n",
       "149980                   0  \n",
       "149981                   4  \n",
       "149982                   3  \n",
       "149983                   0  \n",
       "149984                   0  \n",
       "149985                   0  \n",
       "149986                   1  \n",
       "149987                   0  \n",
       "149988                   0  \n",
       "149989                   3  \n",
       "149990                   2  \n",
       "149991                   0  \n",
       "149992                   3  \n",
       "149993                   0  \n",
       "149994                   0  \n",
       "149995                   0  \n",
       "149996                   2  \n",
       "149997                   0  \n",
       "149998                   0  \n",
       "149999                   0  \n",
       "\n",
       "[150000 rows x 12 columns]>"
      ]
     },
     "execution_count": 55,
     "metadata": {},
     "output_type": "execute_result"
    }
   ],
   "source": [
    "df.describe"
   ]
  },
  {
   "cell_type": "code",
   "execution_count": 56,
   "metadata": {
    "collapsed": false
   },
   "outputs": [
    {
     "data": {
      "text/plain": [
       "(150000, 12)"
      ]
     },
     "execution_count": 56,
     "metadata": {},
     "output_type": "execute_result"
    }
   ],
   "source": [
    "df.shape"
   ]
  },
  {
   "cell_type": "code",
   "execution_count": 57,
   "metadata": {
    "collapsed": false
   },
   "outputs": [
    {
     "data": {
      "text/plain": [
       "52.295206666666665"
      ]
     },
     "execution_count": 57,
     "metadata": {},
     "output_type": "execute_result"
    }
   ],
   "source": [
    "df['age'].mean()"
   ]
  },
  {
   "cell_type": "code",
   "execution_count": 58,
   "metadata": {
    "collapsed": false
   },
   "outputs": [
    {
     "data": {
      "text/plain": [
       "52.0"
      ]
     },
     "execution_count": 58,
     "metadata": {},
     "output_type": "execute_result"
    }
   ],
   "source": [
    "df['age'].median()"
   ]
  },
  {
   "cell_type": "code",
   "execution_count": 59,
   "metadata": {
    "collapsed": false
   },
   "outputs": [
    {
     "data": {
      "text/plain": [
       "0    49\n",
       "dtype: int64"
      ]
     },
     "execution_count": 59,
     "metadata": {},
     "output_type": "execute_result"
    }
   ],
   "source": [
    "df['age'].mode()"
   ]
  },
  {
   "cell_type": "code",
   "execution_count": 60,
   "metadata": {
    "collapsed": false
   },
   "outputs": [
    {
     "data": {
      "text/plain": [
       "0.18899454512676725"
      ]
     },
     "execution_count": 60,
     "metadata": {},
     "output_type": "execute_result"
    }
   ],
   "source": [
    "df['age'].skew()"
   ]
  },
  {
   "cell_type": "code",
   "execution_count": 61,
   "metadata": {
    "collapsed": false
   },
   "outputs": [],
   "source": [
    "x = np.arange(df['age'].min(), df['age'].max())"
   ]
  },
  {
   "cell_type": "code",
   "execution_count": 62,
   "metadata": {
    "collapsed": false
   },
   "outputs": [
    {
     "data": {
      "text/html": [
       "<div style=\"max-height:1000px;max-width:1500px;overflow:auto;\">\n",
       "<table border=\"1\" class=\"dataframe\">\n",
       "  <thead>\n",
       "    <tr style=\"text-align: right;\">\n",
       "      <th></th>\n",
       "      <th>Unnamed: 0</th>\n",
       "      <th>SeriousDlqin2yrs</th>\n",
       "      <th>RevolvingUtilizationOfUnsecuredLines</th>\n",
       "      <th>age</th>\n",
       "      <th>NumberOfTime30-59DaysPastDueNotWorse</th>\n",
       "      <th>DebtRatio</th>\n",
       "      <th>MonthlyIncome</th>\n",
       "      <th>NumberOfOpenCreditLinesAndLoans</th>\n",
       "      <th>NumberOfTimes90DaysLate</th>\n",
       "      <th>NumberRealEstateLoansOrLines</th>\n",
       "      <th>NumberOfTime60-89DaysPastDueNotWorse</th>\n",
       "      <th>NumberOfDependents</th>\n",
       "    </tr>\n",
       "  </thead>\n",
       "  <tbody>\n",
       "    <tr>\n",
       "      <th>65695</th>\n",
       "      <td>65696</td>\n",
       "      <td>0</td>\n",
       "      <td>1</td>\n",
       "      <td>0</td>\n",
       "      <td>1</td>\n",
       "      <td>0.436927</td>\n",
       "      <td>6000</td>\n",
       "      <td>6</td>\n",
       "      <td>0</td>\n",
       "      <td>2</td>\n",
       "      <td>0</td>\n",
       "      <td>2</td>\n",
       "    </tr>\n",
       "  </tbody>\n",
       "</table>\n",
       "</div>"
      ],
      "text/plain": [
       "       Unnamed: 0  SeriousDlqin2yrs  RevolvingUtilizationOfUnsecuredLines  \\\n",
       "65695       65696                 0                                     1   \n",
       "\n",
       "       age  NumberOfTime30-59DaysPastDueNotWorse  DebtRatio  MonthlyIncome  \\\n",
       "65695    0                                     1   0.436927           6000   \n",
       "\n",
       "       NumberOfOpenCreditLinesAndLoans  NumberOfTimes90DaysLate  \\\n",
       "65695                                6                        0   \n",
       "\n",
       "       NumberRealEstateLoansOrLines  NumberOfTime60-89DaysPastDueNotWorse  \\\n",
       "65695                             2                                     0   \n",
       "\n",
       "       NumberOfDependents  \n",
       "65695                   2  "
      ]
     },
     "execution_count": 62,
     "metadata": {},
     "output_type": "execute_result"
    }
   ],
   "source": [
    "df.loc[df['age'] < 18]"
   ]
  },
  {
   "cell_type": "code",
   "execution_count": 63,
   "metadata": {
    "collapsed": false
   },
   "outputs": [
    {
     "data": {
      "text/plain": [
       "109"
      ]
     },
     "execution_count": 63,
     "metadata": {},
     "output_type": "execute_result"
    }
   ],
   "source": [
    "df['age'].max()"
   ]
  },
  {
   "cell_type": "code",
   "execution_count": 64,
   "metadata": {
    "collapsed": false
   },
   "outputs": [
    {
     "data": {
      "text/html": [
       "<div style=\"max-height:1000px;max-width:1500px;overflow:auto;\">\n",
       "<table border=\"1\" class=\"dataframe\">\n",
       "  <thead>\n",
       "    <tr style=\"text-align: right;\">\n",
       "      <th></th>\n",
       "      <th>Unnamed: 0</th>\n",
       "      <th>SeriousDlqin2yrs</th>\n",
       "      <th>RevolvingUtilizationOfUnsecuredLines</th>\n",
       "      <th>age</th>\n",
       "      <th>NumberOfTime30-59DaysPastDueNotWorse</th>\n",
       "      <th>DebtRatio</th>\n",
       "      <th>MonthlyIncome</th>\n",
       "      <th>NumberOfOpenCreditLinesAndLoans</th>\n",
       "      <th>NumberOfTimes90DaysLate</th>\n",
       "      <th>NumberRealEstateLoansOrLines</th>\n",
       "      <th>NumberOfTime60-89DaysPastDueNotWorse</th>\n",
       "      <th>NumberOfDependents</th>\n",
       "    </tr>\n",
       "  </thead>\n",
       "  <tbody>\n",
       "    <tr>\n",
       "      <th>7763</th>\n",
       "      <td>7764</td>\n",
       "      <td>0</td>\n",
       "      <td>0.069167</td>\n",
       "      <td>101</td>\n",
       "      <td>0</td>\n",
       "      <td>50.000000</td>\n",
       "      <td>NaN</td>\n",
       "      <td>2</td>\n",
       "      <td>0</td>\n",
       "      <td>0</td>\n",
       "      <td>0</td>\n",
       "      <td>0</td>\n",
       "    </tr>\n",
       "    <tr>\n",
       "      <th>19884</th>\n",
       "      <td>19885</td>\n",
       "      <td>0</td>\n",
       "      <td>1.000000</td>\n",
       "      <td>103</td>\n",
       "      <td>0</td>\n",
       "      <td>0.000000</td>\n",
       "      <td>1600</td>\n",
       "      <td>3</td>\n",
       "      <td>0</td>\n",
       "      <td>0</td>\n",
       "      <td>0</td>\n",
       "      <td>0</td>\n",
       "    </tr>\n",
       "    <tr>\n",
       "      <th>25561</th>\n",
       "      <td>25562</td>\n",
       "      <td>0</td>\n",
       "      <td>0.009866</td>\n",
       "      <td>102</td>\n",
       "      <td>0</td>\n",
       "      <td>0.002424</td>\n",
       "      <td>3300</td>\n",
       "      <td>3</td>\n",
       "      <td>0</td>\n",
       "      <td>0</td>\n",
       "      <td>0</td>\n",
       "      <td>0</td>\n",
       "    </tr>\n",
       "    <tr>\n",
       "      <th>40007</th>\n",
       "      <td>40008</td>\n",
       "      <td>0</td>\n",
       "      <td>0.064748</td>\n",
       "      <td>107</td>\n",
       "      <td>0</td>\n",
       "      <td>939.000000</td>\n",
       "      <td>NaN</td>\n",
       "      <td>9</td>\n",
       "      <td>0</td>\n",
       "      <td>1</td>\n",
       "      <td>0</td>\n",
       "      <td>0</td>\n",
       "    </tr>\n",
       "    <tr>\n",
       "      <th>56761</th>\n",
       "      <td>56762</td>\n",
       "      <td>0</td>\n",
       "      <td>0.003469</td>\n",
       "      <td>105</td>\n",
       "      <td>0</td>\n",
       "      <td>2.000000</td>\n",
       "      <td>NaN</td>\n",
       "      <td>4</td>\n",
       "      <td>0</td>\n",
       "      <td>0</td>\n",
       "      <td>0</td>\n",
       "      <td>NaN</td>\n",
       "    </tr>\n",
       "    <tr>\n",
       "      <th>57967</th>\n",
       "      <td>57968</td>\n",
       "      <td>0</td>\n",
       "      <td>0.001397</td>\n",
       "      <td>103</td>\n",
       "      <td>0</td>\n",
       "      <td>1798.500000</td>\n",
       "      <td>1</td>\n",
       "      <td>11</td>\n",
       "      <td>0</td>\n",
       "      <td>2</td>\n",
       "      <td>0</td>\n",
       "      <td>0</td>\n",
       "    </tr>\n",
       "    <tr>\n",
       "      <th>90937</th>\n",
       "      <td>90938</td>\n",
       "      <td>0</td>\n",
       "      <td>0.000000</td>\n",
       "      <td>102</td>\n",
       "      <td>0</td>\n",
       "      <td>0.000000</td>\n",
       "      <td>NaN</td>\n",
       "      <td>12</td>\n",
       "      <td>0</td>\n",
       "      <td>0</td>\n",
       "      <td>0</td>\n",
       "      <td>0</td>\n",
       "    </tr>\n",
       "    <tr>\n",
       "      <th>93813</th>\n",
       "      <td>93814</td>\n",
       "      <td>0</td>\n",
       "      <td>0.025780</td>\n",
       "      <td>101</td>\n",
       "      <td>0</td>\n",
       "      <td>0.013797</td>\n",
       "      <td>1666</td>\n",
       "      <td>5</td>\n",
       "      <td>0</td>\n",
       "      <td>0</td>\n",
       "      <td>0</td>\n",
       "      <td>0</td>\n",
       "    </tr>\n",
       "    <tr>\n",
       "      <th>96450</th>\n",
       "      <td>96451</td>\n",
       "      <td>0</td>\n",
       "      <td>0.109642</td>\n",
       "      <td>102</td>\n",
       "      <td>0</td>\n",
       "      <td>0.273844</td>\n",
       "      <td>3417</td>\n",
       "      <td>7</td>\n",
       "      <td>0</td>\n",
       "      <td>0</td>\n",
       "      <td>0</td>\n",
       "      <td>1</td>\n",
       "    </tr>\n",
       "    <tr>\n",
       "      <th>105790</th>\n",
       "      <td>105791</td>\n",
       "      <td>0</td>\n",
       "      <td>0.109307</td>\n",
       "      <td>109</td>\n",
       "      <td>0</td>\n",
       "      <td>2141.000000</td>\n",
       "      <td>NaN</td>\n",
       "      <td>17</td>\n",
       "      <td>0</td>\n",
       "      <td>1</td>\n",
       "      <td>0</td>\n",
       "      <td>NaN</td>\n",
       "    </tr>\n",
       "    <tr>\n",
       "      <th>116129</th>\n",
       "      <td>116130</td>\n",
       "      <td>1</td>\n",
       "      <td>0.002964</td>\n",
       "      <td>101</td>\n",
       "      <td>2</td>\n",
       "      <td>0.001387</td>\n",
       "      <td>2883</td>\n",
       "      <td>6</td>\n",
       "      <td>0</td>\n",
       "      <td>0</td>\n",
       "      <td>0</td>\n",
       "      <td>0</td>\n",
       "    </tr>\n",
       "    <tr>\n",
       "      <th>135025</th>\n",
       "      <td>135026</td>\n",
       "      <td>0</td>\n",
       "      <td>0.004059</td>\n",
       "      <td>103</td>\n",
       "      <td>0</td>\n",
       "      <td>5.000000</td>\n",
       "      <td>NaN</td>\n",
       "      <td>6</td>\n",
       "      <td>0</td>\n",
       "      <td>0</td>\n",
       "      <td>0</td>\n",
       "      <td>0</td>\n",
       "    </tr>\n",
       "    <tr>\n",
       "      <th>138291</th>\n",
       "      <td>138292</td>\n",
       "      <td>0</td>\n",
       "      <td>0.246529</td>\n",
       "      <td>109</td>\n",
       "      <td>0</td>\n",
       "      <td>318.000000</td>\n",
       "      <td>NaN</td>\n",
       "      <td>3</td>\n",
       "      <td>0</td>\n",
       "      <td>0</td>\n",
       "      <td>0</td>\n",
       "      <td>NaN</td>\n",
       "    </tr>\n",
       "  </tbody>\n",
       "</table>\n",
       "</div>"
      ],
      "text/plain": [
       "        Unnamed: 0  SeriousDlqin2yrs  RevolvingUtilizationOfUnsecuredLines  \\\n",
       "7763          7764                 0                              0.069167   \n",
       "19884        19885                 0                              1.000000   \n",
       "25561        25562                 0                              0.009866   \n",
       "40007        40008                 0                              0.064748   \n",
       "56761        56762                 0                              0.003469   \n",
       "57967        57968                 0                              0.001397   \n",
       "90937        90938                 0                              0.000000   \n",
       "93813        93814                 0                              0.025780   \n",
       "96450        96451                 0                              0.109642   \n",
       "105790      105791                 0                              0.109307   \n",
       "116129      116130                 1                              0.002964   \n",
       "135025      135026                 0                              0.004059   \n",
       "138291      138292                 0                              0.246529   \n",
       "\n",
       "        age  NumberOfTime30-59DaysPastDueNotWorse    DebtRatio  MonthlyIncome  \\\n",
       "7763    101                                     0    50.000000            NaN   \n",
       "19884   103                                     0     0.000000           1600   \n",
       "25561   102                                     0     0.002424           3300   \n",
       "40007   107                                     0   939.000000            NaN   \n",
       "56761   105                                     0     2.000000            NaN   \n",
       "57967   103                                     0  1798.500000              1   \n",
       "90937   102                                     0     0.000000            NaN   \n",
       "93813   101                                     0     0.013797           1666   \n",
       "96450   102                                     0     0.273844           3417   \n",
       "105790  109                                     0  2141.000000            NaN   \n",
       "116129  101                                     2     0.001387           2883   \n",
       "135025  103                                     0     5.000000            NaN   \n",
       "138291  109                                     0   318.000000            NaN   \n",
       "\n",
       "        NumberOfOpenCreditLinesAndLoans  NumberOfTimes90DaysLate  \\\n",
       "7763                                  2                        0   \n",
       "19884                                 3                        0   \n",
       "25561                                 3                        0   \n",
       "40007                                 9                        0   \n",
       "56761                                 4                        0   \n",
       "57967                                11                        0   \n",
       "90937                                12                        0   \n",
       "93813                                 5                        0   \n",
       "96450                                 7                        0   \n",
       "105790                               17                        0   \n",
       "116129                                6                        0   \n",
       "135025                                6                        0   \n",
       "138291                                3                        0   \n",
       "\n",
       "        NumberRealEstateLoansOrLines  NumberOfTime60-89DaysPastDueNotWorse  \\\n",
       "7763                               0                                     0   \n",
       "19884                              0                                     0   \n",
       "25561                              0                                     0   \n",
       "40007                              1                                     0   \n",
       "56761                              0                                     0   \n",
       "57967                              2                                     0   \n",
       "90937                              0                                     0   \n",
       "93813                              0                                     0   \n",
       "96450                              0                                     0   \n",
       "105790                             1                                     0   \n",
       "116129                             0                                     0   \n",
       "135025                             0                                     0   \n",
       "138291                             0                                     0   \n",
       "\n",
       "        NumberOfDependents  \n",
       "7763                     0  \n",
       "19884                    0  \n",
       "25561                    0  \n",
       "40007                    0  \n",
       "56761                  NaN  \n",
       "57967                    0  \n",
       "90937                    0  \n",
       "93813                    0  \n",
       "96450                    1  \n",
       "105790                 NaN  \n",
       "116129                   0  \n",
       "135025                   0  \n",
       "138291                 NaN  "
      ]
     },
     "execution_count": 64,
     "metadata": {},
     "output_type": "execute_result"
    }
   ],
   "source": [
    "df.loc[df['age'] > 100]"
   ]
  },
  {
   "cell_type": "code",
   "execution_count": 65,
   "metadata": {
    "collapsed": false
   },
   "outputs": [
    {
     "data": {
      "text/plain": [
       "<matplotlib.figure.Figure at 0x11a16ecd0>"
      ]
     },
     "execution_count": 65,
     "metadata": {},
     "output_type": "execute_result"
    },
    {
     "data": {
      "text/plain": [
       "<matplotlib.figure.Figure at 0x11a16ecd0>"
      ]
     },
     "metadata": {},
     "output_type": "display_data"
    }
   ],
   "source": [
    "plt.figure()"
   ]
  },
  {
   "cell_type": "code",
   "execution_count": 66,
   "metadata": {
    "collapsed": false
   },
   "outputs": [
    {
     "data": {
      "text/plain": [
       "<matplotlib.axes._subplots.AxesSubplot at 0x11a17f490>"
      ]
     },
     "execution_count": 66,
     "metadata": {},
     "output_type": "execute_result"
    },
    {
     "data": {
      "image/png": "[encoded data removed]",
      "text/plain": [
       "<matplotlib.figure.Figure at 0x118782250>"
      ]
     },
     "metadata": {},
     "output_type": "display_data"
    }
   ],
   "source": [
    "df['age'].plot(kind='hist', stacked=False, bins=df['age'].max())"
   ]
  },
  {
   "cell_type": "code",
   "execution_count": 67,
   "metadata": {
    "collapsed": false
   },
   "outputs": [
    {
     "name": "stdout",
     "output_type": "stream",
     "text": [
      "Object `plot` not found.\n"
     ]
    }
   ],
   "source": [
    "df['age'].plot?"
   ]
  },
  {
   "cell_type": "code",
   "execution_count": null,
   "metadata": {
    "collapsed": true
   },
   "outputs": [],
   "source": [
    "df['age'].plot"
   ]
  },
  {
   "cell_type": "code",
   "execution_count": 68,
   "metadata": {
    "collapsed": false
   },
   "outputs": [
    {
     "data": {
      "text/plain": [
       "<bound method Series.plot_series of 0         45\n",
       "1         40\n",
       "2         38\n",
       "3         30\n",
       "4         49\n",
       "5         74\n",
       "6         57\n",
       "7         39\n",
       "8         27\n",
       "9         57\n",
       "10        30\n",
       "11        51\n",
       "12        46\n",
       "13        40\n",
       "14        76\n",
       "15        64\n",
       "16        78\n",
       "17        53\n",
       "18        43\n",
       "19        25\n",
       "20        43\n",
       "21        38\n",
       "22        39\n",
       "23        32\n",
       "24        58\n",
       "25        50\n",
       "26        58\n",
       "27        69\n",
       "28        24\n",
       "29        58\n",
       "          ..\n",
       "149970    58\n",
       "149971    83\n",
       "149972    42\n",
       "149973    44\n",
       "149974    61\n",
       "149975    58\n",
       "149976    76\n",
       "149977    29\n",
       "149978    52\n",
       "149979    55\n",
       "149980    64\n",
       "149981    43\n",
       "149982    37\n",
       "149983    82\n",
       "149984    84\n",
       "149985    26\n",
       "149986    49\n",
       "149987    28\n",
       "149988    31\n",
       "149989    62\n",
       "149990    46\n",
       "149991    59\n",
       "149992    50\n",
       "149993    22\n",
       "149994    50\n",
       "149995    74\n",
       "149996    44\n",
       "149997    58\n",
       "149998    30\n",
       "149999    64\n",
       "Name: age, dtype: int64>"
      ]
     },
     "execution_count": 68,
     "metadata": {},
     "output_type": "execute_result"
    }
   ],
   "source": [
    "df['age'].plot"
   ]
  },
  {
   "cell_type": "code",
   "execution_count": 69,
   "metadata": {
    "collapsed": false
   },
   "outputs": [
    {
     "data": {
      "text/plain": [
       "<bound method Series.plot_series of 0         45\n",
       "1         40\n",
       "2         38\n",
       "3         30\n",
       "4         49\n",
       "5         74\n",
       "6         57\n",
       "7         39\n",
       "8         27\n",
       "9         57\n",
       "10        30\n",
       "11        51\n",
       "12        46\n",
       "13        40\n",
       "14        76\n",
       "15        64\n",
       "16        78\n",
       "17        53\n",
       "18        43\n",
       "19        25\n",
       "20        43\n",
       "21        38\n",
       "22        39\n",
       "23        32\n",
       "24        58\n",
       "25        50\n",
       "26        58\n",
       "27        69\n",
       "28        24\n",
       "29        58\n",
       "          ..\n",
       "149970    58\n",
       "149971    83\n",
       "149972    42\n",
       "149973    44\n",
       "149974    61\n",
       "149975    58\n",
       "149976    76\n",
       "149977    29\n",
       "149978    52\n",
       "149979    55\n",
       "149980    64\n",
       "149981    43\n",
       "149982    37\n",
       "149983    82\n",
       "149984    84\n",
       "149985    26\n",
       "149986    49\n",
       "149987    28\n",
       "149988    31\n",
       "149989    62\n",
       "149990    46\n",
       "149991    59\n",
       "149992    50\n",
       "149993    22\n",
       "149994    50\n",
       "149995    74\n",
       "149996    44\n",
       "149997    58\n",
       "149998    30\n",
       "149999    64\n",
       "Name: age, dtype: int64>"
      ]
     },
     "execution_count": 69,
     "metadata": {},
     "output_type": "execute_result"
    }
   ],
   "source": [
    "df['age'].plot"
   ]
  },
  {
   "cell_type": "code",
   "execution_count": 70,
   "metadata": {
    "collapsed": false
   },
   "outputs": [
    {
     "data": {
      "text/plain": [
       "<matplotlib.axes._subplots.AxesSubplot at 0x117451b10>"
      ]
     },
     "execution_count": 70,
     "metadata": {},
     "output_type": "execute_result"
    },
    {
     "data": {
      "image/png": "[encoded data removed]",
      "text/plain": [
       "<matplotlib.figure.Figure at 0x1174638d0>"
      ]
     },
     "metadata": {},
     "output_type": "display_data"
    }
   ],
   "source": [
    "df.loc[df['NumberOfTime30-59DaysPastDueNotWorse'] > 0]['age'].plot(\n",
    "    kind='hist', \n",
    "    bins=100, \n",
    "    title='Age distribution of borrowers with at least one payment delay of 30-59 days.')"
   ]
  },
  {
   "cell_type": "code",
   "execution_count": 71,
   "metadata": {
    "collapsed": false
   },
   "outputs": [
    {
     "data": {
      "text/plain": [
       "(23982, 12)"
      ]
     },
     "execution_count": 71,
     "metadata": {},
     "output_type": "execute_result"
    }
   ],
   "source": [
    "df.loc[df['NumberOfTime30-59DaysPastDueNotWorse'] > 0].shape"
   ]
  },
  {
   "cell_type": "code",
   "execution_count": 72,
   "metadata": {
    "collapsed": false
   },
   "outputs": [
    {
     "data": {
      "text/plain": [
       "<matplotlib.axes._subplots.AxesSubplot at 0x114e9ee50>"
      ]
     },
     "execution_count": 72,
     "metadata": {},
     "output_type": "execute_result"
    },
    {
     "data": {
      "image/png": "[encoded data removed]",
      "text/plain": [
       "<matplotlib.figure.Figure at 0x114ea4cd0>"
      ]
     },
     "metadata": {},
     "output_type": "display_data"
    }
   ],
   "source": [
    "df.loc[df['NumberOfTime60-89DaysPastDueNotWorse'] > 0]['age'].plot(\n",
    "    kind='hist', \n",
    "    bins=100, \n",
    "    title='Age distribution of borrowers with at least one payment delay of 60-89 days.')"
   ]
  },
  {
   "cell_type": "code",
   "execution_count": 73,
   "metadata": {
    "collapsed": false
   },
   "outputs": [
    {
     "data": {
      "text/plain": [
       "<matplotlib.axes._subplots.AxesSubplot at 0x1173b6f90>"
      ]
     },
     "execution_count": 73,
     "metadata": {},
     "output_type": "execute_result"
    },
    {
     "data": {
      "image/png": "[encoded data removed]",
      "text/plain": [
       "<matplotlib.figure.Figure at 0x11736ad10>"
      ]
     },
     "metadata": {},
     "output_type": "display_data"
    }
   ],
   "source": [
    "df.loc[df['NumberOfTimes90DaysLate'] > 0]['age'].plot(\n",
    "    kind='hist', \n",
    "    bins=100, \n",
    "    title='Age distribution of borrowers with at least one payment delay of over 90 days.')"
   ]
  },
  {
   "cell_type": "code",
   "execution_count": 3,
   "metadata": {
    "collapsed": false
   },
   "outputs": [
    {
     "data": {
      "text/plain": [
       "<matplotlib.axes._subplots.AxesSubplot at 0x112dcb250>"
      ]
     },
     "execution_count": 3,
     "metadata": {},
     "output_type": "execute_result"
    },
    {
     "data": {
      "image/png": "[encoded data removed]",
      "text/plain": [
       "<matplotlib.figure.Figure at 0x112d63e50>"
      ]
     },
     "metadata": {},
     "output_type": "display_data"
    }
   ],
   "source": [
    "df.loc[df['NumberOfTimes90DaysLate'] < 80].plot(kind='scatter', x='NumberOfTimes90DaysLate', y='MonthlyIncome')"
   ]
  },
  {
   "cell_type": "code",
   "execution_count": 4,
   "metadata": {
    "collapsed": false
   },
   "outputs": [
    {
     "data": {
      "image/png": "[encoded data removed]",
      "text/plain": [
       "<matplotlib.figure.Figure at 0x112e0e950>"
      ]
     },
     "metadata": {},
     "output_type": "display_data"
    }
   ],
   "source": [
    "threed = plt.figure().gca(projection='3d')\n",
    "threed.scatter(df['NumberOfTimes90DaysLate'], df['age'], df['MonthlyIncome'])\n",
    "threed.set_xlabel('NumberOfTimes90DaysLate')\n",
    "threed.set_ylabel('Age')\n",
    "threed.set_zlabel('MonthlyIncome')\n",
    "plt.show()"
   ]
  },
  {
   "cell_type": "code",
   "execution_count": null,
   "metadata": {
    "collapsed": false
   },
   "outputs": [],
   "source": [
    "df.loc[df['MonthlyIncome'] < 20000].plot(kind='scatter', x='MonthlyIncome', y='age')\n",
    "plt.show()"
   ]
  },
  {
   "cell_type": "code",
   "execution_count": null,
   "metadata": {
    "collapsed": true
   },
   "outputs": [],
   "source": []
  }
 ],
 "metadata": {
  "kernelspec": {
   "display_name": "Python 2",
   "language": "python",
   "name": "python2"
  },
  "language_info": {
   "codemirror_mode": {
    "name": "ipython",
    "version": 2
   },
   "file_extension": ".py",
   "mimetype": "text/x-python",
   "name": "python",
   "nbconvert_exporter": "python",
   "pygments_lexer": "ipython2",
   "version": "2.7.10"
  }
 },
 "nbformat": 4,
 "nbformat_minor": 0
}
