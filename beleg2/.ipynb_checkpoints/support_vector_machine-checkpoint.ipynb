{
 "cells": [
  {
   "cell_type": "markdown",
   "metadata": {},
   "source": [
    "#Support Vector Machine for Credit Data"
   ]
  },
  {
   "cell_type": "code",
   "execution_count": 1,
   "metadata": {
    "collapsed": true
   },
   "outputs": [],
   "source": [
    "import pandas as pd\n",
    "import numpy as np\n",
    "from sklearn.svm import SVC\n",
    "from sklearn.grid_search import GridSearchCV\n",
    "from sklearn.cross_validation import cross_val_score, ShuffleSplit\n",
    "from sklearn.preprocessing import StandardScaler\n",
    "import sklearn as sk\n",
    "from pprint import pprint"
   ]
  },
  {
   "cell_type": "code",
   "execution_count": 2,
   "metadata": {
    "collapsed": true
   },
   "outputs": [],
   "source": [
    "from scipy.stats import sem\n",
    "\n",
    "def mean_score(text, scores):\n",
    "    return (str(text) + ' {0:.8f} (+/-{1:.5f})').format(np.mean(scores), sem(scores))"
   ]
  },
  {
   "cell_type": "code",
   "execution_count": 3,
   "metadata": {
    "collapsed": false
   },
   "outputs": [],
   "source": [
    "def test_svm(train_size, svm, df, n_iter):\n",
    "    auc_scores = []\n",
    "    accs = []\n",
    "    for i in range(0, n_iter):\n",
    "        train, test = sk.cross_validation.train_test_split(df, train_size=train_size, random_state=1)\n",
    "        y = train['SeriousDlqin2yrs']\n",
    "        X = train.drop('SeriousDlqin2yrs', axis=1)\n",
    "        scaler = StandardScaler()\n",
    "        X = scaler.fit_transform(X)\n",
    "        y_test = test['SeriousDlqin2yrs']\n",
    "        X_test = test.drop('SeriousDlqin2yrs', 1)\n",
    "        X_test = scaler.fit_transform(X_test)\n",
    "        svm.fit(X, y)\n",
    "        auc_scores.append(sk.metrics.roc_auc_score(y_test, svm.predict_proba(X_test).T[1]))\n",
    "        accs.append(svm.score(X_test, y_test))\n",
    "    print(mean_score('roc auc score:', auc_scores))\n",
    "    print(mean_score('accuracy:', accs))"
   ]
  },
  {
   "cell_type": "code",
   "execution_count": 4,
   "metadata": {
    "collapsed": false
   },
   "outputs": [
    {
     "name": "stdout",
     "output_type": "stream",
     "text": [
      "roc auc score: 0.64876678 (+/-0.04497)\n",
      "accuracy: 0.93325388 (+/-0.00004)\n"
     ]
    }
   ],
   "source": [
    "df_clean = pd.read_csv('./data/cs-train_clean.csv').drop('Unnamed: 0', axis=1)\n",
    "svc = SVC(kernel='rbf', C=1, gamma=0.001, probability=True)\n",
    "test_svm(0.01, svc, df_clean, 10)"
   ]
  },
  {
   "cell_type": "markdown",
   "metadata": {},
   "source": [
    "while tweaking the parameters for svm, we noticed an increase of preciscion proportional to an increased number of training samples. However, processing 5% samples, already takes abaout 10 minutes on my machine."
   ]
  },
  {
   "cell_type": "markdown",
   "metadata": {},
   "source": [
    "Anyhow, this way of testing is not that efficient at all, we still don't know which params to use, to get a descent result. So we will try a GridSearch. We took the parameter range from a tutorial."
   ]
  },
  {
   "cell_type": "markdown",
   "metadata": {},
   "source": [
    "##Grid Search"
   ]
  },
  {
   "cell_type": "code",
   "execution_count": 5,
   "metadata": {
    "collapsed": true
   },
   "outputs": [],
   "source": [
    "def svm_grid_search(train_size, svc_params, df, n_iter):\n",
    "    auc_scores = []\n",
    "    accs = []\n",
    "    for i in range(0, n_iter):\n",
    "        train, test = sk.cross_validation.train_test_split(df, train_size=train_size, random_state=1)\n",
    "        X_train = train.drop('SeriousDlqin2yrs', axis=1)\n",
    "        y_train = train.SeriousDlqin2yrs \n",
    "        scaler = StandardScaler()\n",
    "        X_train = scaler.fit_transform(X_train)\n",
    "        y_test = test['SeriousDlqin2yrs']\n",
    "        X_test = test.drop('SeriousDlqin2yrs', 1)\n",
    "        X_test = scaler.fit_transform(X_test)\n",
    "        gs_svc = GridSearchCV(SVC(), svc_params, cv = 3, n_jobs=-1)\n",
    "        gs_svc.fit(X_train, y_train)\n",
    "        scv=gs_svc.best_estimator_\n",
    "        svc.fit(X_train, y_train)\n",
    "        auc_scores.append(sk.metrics.roc_auc_score(y_test, svc.predict_proba(X_test).T[1]))\n",
    "        accs.append(svc.score(X_test, y_test))\n",
    "    print(mean_score('roc auc score:', auc_scores))\n",
    "    print(mean_score('accuracy:', accs))"
   ]
  },
  {
   "cell_type": "code",
   "execution_count": 6,
   "metadata": {
    "collapsed": false
   },
   "outputs": [],
   "source": [
    "svc_params = {\n",
    "    'C': np.logspace(-1, 2, 4),\n",
    "    'gamma': np.logspace(-4, 0, 5),\n",
    "    'probability': [True]\n",
    "}"
   ]
  },
  {
   "cell_type": "markdown",
   "metadata": {},
   "source": [
    "##Cleaned Data"
   ]
  },
  {
   "cell_type": "code",
   "execution_count": 8,
   "metadata": {
    "collapsed": false
   },
   "outputs": [
    {
     "name": "stdout",
     "output_type": "stream",
     "text": [
      "CPU times: user 672 ms, sys: 39.7 ms, total: 712 ms\n",
      "Wall time: 5.37 s\n",
      "CPU times: user 304 ms, sys: 55.5 ms, total: 359 ms\n",
      "Wall time: 4.62 s\n",
      "CPU times: user 789 ms, sys: 62.2 ms, total: 851 ms\n",
      "Wall time: 5.29 s\n",
      "CPU times: user 390 ms, sys: 56.1 ms, total: 446 ms\n",
      "Wall time: 5.1 s\n",
      "CPU times: user 315 ms, sys: 56.4 ms, total: 372 ms\n",
      "Wall time: 5.16 s\n",
      "CPU times: user 415 ms, sys: 59.8 ms, total: 475 ms\n",
      "Wall time: 3.38 s\n",
      "CPU times: user 449 ms, sys: 50.8 ms, total: 500 ms\n",
      "Wall time: 2.49 s\n",
      "CPU times: user 471 ms, sys: 52.7 ms, total: 524 ms\n",
      "Wall time: 3.12 s\n",
      "CPU times: user 270 ms, sys: 54.3 ms, total: 324 ms\n",
      "Wall time: 2.9 s\n",
      "CPU times: user 242 ms, sys: 36.3 ms, total: 279 ms\n",
      "Wall time: 2.65 s\n",
      "roc auc score: 0.73867272 (+/-0.01546)\n",
      "accuracy: 0.93326604 (+/-0.00003)\n"
     ]
    }
   ],
   "source": [
    "df_clean = pd.read_csv('./data/cs-train_clean.csv').drop('Unnamed: 0', axis=1)\n",
    "svm_grid_search(0.01, svc_params, df_clean, 10)"
   ]
  },
  {
   "cell_type": "markdown",
   "metadata": {},
   "source": [
    "##Cropped Data"
   ]
  },
  {
   "cell_type": "code",
   "execution_count": 52,
   "metadata": {
    "collapsed": false
   },
   "outputs": [
    {
     "name": "stdout",
     "output_type": "stream",
     "text": [
      "CPU times: user 310 ms, sys: 37 ms, total: 347 ms\n",
      "Wall time: 2.03 s\n",
      "roc auc score: 0.751016439669\n",
      "Accuracy: 0.930694482938\n"
     ]
    }
   ],
   "source": [
    "df_cropped = pd.read_csv('./data/cs-train_cropped.csv').drop('Unnamed: 0', axis=1)\n",
    "svm_grid_search(0.01, svc_params, df_cropped, 10)"
   ]
  },
  {
   "cell_type": "markdown",
   "metadata": {},
   "source": [
    "##Oversampled Data"
   ]
  },
  {
   "cell_type": "code",
   "execution_count": 53,
   "metadata": {
    "collapsed": false
   },
   "outputs": [
    {
     "name": "stdout",
     "output_type": "stream",
     "text": [
      "CPU times: user 2.29 s, sys: 49.5 ms, total: 2.34 s\n",
      "Wall time: 14.4 s\n",
      "roc auc score: 0.652019125256\n",
      "Accuracy: 0.602464872589\n"
     ]
    }
   ],
   "source": [
    "df_oversampled = pd.read_csv('./data/cs-train_oversampled.csv').drop('Unnamed: 0', axis=1)\n",
    "svm_grid_search(0.01, svc_params, df_oversampled, 10)"
   ]
  },
  {
   "cell_type": "markdown",
   "metadata": {},
   "source": [
    "## Undersampled Data"
   ]
  },
  {
   "cell_type": "code",
   "execution_count": 54,
   "metadata": {
    "collapsed": false
   },
   "outputs": [
    {
     "name": "stdout",
     "output_type": "stream",
     "text": [
      "CPU times: user 174 ms, sys: 25.5 ms, total: 199 ms\n",
      "Wall time: 272 ms\n",
      "roc auc score: 0.715977678677\n",
      "Accuracy: 0.49972804738\n"
     ]
    }
   ],
   "source": [
    "df_undersampled = pd.read_csv('./data/cs-train_undersampled.csv').drop('Unnamed: 0', axis=1)\n",
    "svm_grid_search(0.01, svc_params, df_undersampled, 10)"
   ]
  },
  {
   "cell_type": "code",
   "execution_count": null,
   "metadata": {
    "collapsed": true
   },
   "outputs": [],
   "source": []
  }
 ],
 "metadata": {
  "kernelspec": {
   "display_name": "Python 2",
   "language": "python",
   "name": "python2"
  },
  "language_info": {
   "codemirror_mode": {
    "name": "ipython",
    "version": 2
   },
   "file_extension": ".py",
   "mimetype": "text/x-python",
   "name": "python",
   "nbconvert_exporter": "python",
   "pygments_lexer": "ipython2",
   "version": "2.7.10"
  }
 },
 "nbformat": 4,
 "nbformat_minor": 0
}
