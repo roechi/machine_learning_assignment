{
 "cells": [
  {
   "cell_type": "markdown",
   "metadata": {},
   "source": [
    "#Support Vector Machine for Credit Data"
   ]
  },
  {
   "cell_type": "code",
   "execution_count": 1,
   "metadata": {
    "collapsed": true
   },
   "outputs": [],
   "source": [
    "import pandas as pd\n",
    "import numpy as np\n",
    "from sklearn.svm import SVC\n",
    "from sklearn.grid_search import GridSearchCV\n",
    "from sklearn.cross_validation import cross_val_score, ShuffleSplit\n",
    "from sklearn.preprocessing import StandardScaler\n",
    "import sklearn as sk\n",
    "from pprint import pprint\n",
    "from print_scores import print_scores"
   ]
  },
  {
   "cell_type": "code",
   "execution_count": 2,
   "metadata": {
    "collapsed": false
   },
   "outputs": [],
   "source": [
    "def svm_cv(df, n_iter, train_size):\n",
    "    smaller = sk.cross_validation.train_test_split(df, train_size=train_size, random_state=1)[0]\n",
    "    X = smaller.drop('SeriousDlqin2yrs', axis=1)\n",
    "    scaler = StandardScaler()\n",
    "    X = scaler.fit_transform(X)\n",
    "    y = smaller.SeriousDlqin2yrs\n",
    "    auc_scores = cross_val_score(SVC(kernel='rbf', C=1, gamma=0.001), X, y, scoring='roc_auc', cv=n_iter, n_jobs=-1)\n",
    "    acc_scores = cross_val_score(SVC(kernel='rbf', C=1, gamma=0.001), X, y, scoring='accuracy', cv=n_iter, n_jobs=-1)\n",
    "    print print_scores(\"ROC AUC: \" , auc_scores)\n",
    "    print print_scores(\"Accuracy: \", acc_scores)    "
   ]
  },
  {
   "cell_type": "code",
   "execution_count": 3,
   "metadata": {
    "collapsed": false
   },
   "outputs": [
    {
     "name": "stdout",
     "output_type": "stream",
     "text": [
      "ROC AUC:  0.77698143 (+/-0.02288)\n",
      "Accuracy:  0.93595398 (+/-0.00089)\n"
     ]
    }
   ],
   "source": [
    "df_clean = pd.read_csv('./data/cs-train_clean.csv').drop('Unnamed: 0', axis=1)\n",
    "svm_cv(df_clean, 5, 0.05)"
   ]
  },
  {
   "cell_type": "markdown",
   "metadata": {},
   "source": [
    "while tweaking the parameters for svm, we noticed an increase of preciscion proportional to an increased number of training samples. However, processing 5% samples, already takes abaout 10 minutes on my machine."
   ]
  },
  {
   "cell_type": "markdown",
   "metadata": {},
   "source": [
    "Anyhow, this way of testing is not that efficient at all, we still don't know which params to use, to get a descent result. So we will try a GridSearch. We took the parameter range from a tutorial."
   ]
  },
  {
   "cell_type": "markdown",
   "metadata": {},
   "source": [
    "##Grid Search"
   ]
  },
  {
   "cell_type": "code",
   "execution_count": 4,
   "metadata": {
    "collapsed": true
   },
   "outputs": [],
   "source": [
    "def svm_gridsearch_cv(df, n_iter, train_size, svc_params):\n",
    "    smaller = sk.cross_validation.train_test_split(df, train_size=train_size, random_state=1)[0]\n",
    "    X = smaller.drop('SeriousDlqin2yrs', axis=1)\n",
    "    scaler = StandardScaler()\n",
    "    X = scaler.fit_transform(X)\n",
    "    y = smaller.SeriousDlqin2yrs\n",
    "    gs_svc = GridSearchCV(SVC(), svc_params, cv = 3, n_jobs=-1)\n",
    "    gs_svc.fit(X, y)\n",
    "    svc=gs_svc.best_estimator_\n",
    "    auc_scores = cross_val_score(svc, X, y, scoring='roc_auc', cv=n_iter, n_jobs=-1)\n",
    "    acc_scores = cross_val_score(svc, X, y, scoring='accuracy', cv=n_iter, n_jobs=-1)\n",
    "    print print_scores(\"ROC AUC: \" , auc_scores)\n",
    "    print print_scores(\"Accuracy: \", acc_scores)    "
   ]
  },
  {
   "cell_type": "code",
   "execution_count": 5,
   "metadata": {
    "collapsed": false
   },
   "outputs": [],
   "source": [
    "svc_params = {\n",
    "    'C': np.logspace(-1, 2, 4),\n",
    "    'gamma': np.logspace(-4, 0, 5),\n",
    "    'probability': [True]\n",
    "}"
   ]
  },
  {
   "cell_type": "markdown",
   "metadata": {},
   "source": [
    "##Cleaned Data"
   ]
  },
  {
   "cell_type": "code",
   "execution_count": 6,
   "metadata": {
    "collapsed": false
   },
   "outputs": [
    {
     "name": "stdout",
     "output_type": "stream",
     "text": [
      "ROC AUC:  0.76570476 (+/-0.04041)\n",
      "Accuracy:  0.93595460 (+/-0.00191)\n"
     ]
    }
   ],
   "source": [
    "df_clean = pd.read_csv('./data/cs-train_clean.csv').drop('Unnamed: 0', axis=1)\n",
    "svm_gridsearch_cv(df_clean, 10, 0.05, svc_params)"
   ]
  },
  {
   "cell_type": "markdown",
   "metadata": {},
   "source": [
    "##Cropped Data"
   ]
  },
  {
   "cell_type": "code",
   "execution_count": 7,
   "metadata": {
    "collapsed": false
   },
   "outputs": [
    {
     "name": "stdout",
     "output_type": "stream",
     "text": [
      "ROC AUC:  0.68749805 (+/-0.04511)\n",
      "Accuracy:  0.93775118 (+/-0.00332)\n"
     ]
    }
   ],
   "source": [
    "df_cropped = pd.read_csv('./data/cs-train_cropped.csv').drop('Unnamed: 0', axis=1)\n",
    "svm_gridsearch_cv(df_cropped, 10, 0.05, svc_params)"
   ]
  },
  {
   "cell_type": "markdown",
   "metadata": {},
   "source": [
    "##Oversampled Data"
   ]
  },
  {
   "cell_type": "code",
   "execution_count": 8,
   "metadata": {
    "collapsed": false
   },
   "outputs": [
    {
     "name": "stdout",
     "output_type": "stream",
     "text": [
      "ROC AUC:  0.85795559 (+/-0.01131)\n",
      "Accuracy:  0.78555541 (+/-0.01007)\n"
     ]
    }
   ],
   "source": [
    "df_oversampled = pd.read_csv('./data/cs-train_oversampled.csv').drop('Unnamed: 0', axis=1)\n",
    "svm_gridsearch_cv(df_oversampled, 10, 0.05, svc_params)"
   ]
  },
  {
   "cell_type": "markdown",
   "metadata": {},
   "source": [
    "## Undersampled Data"
   ]
  },
  {
   "cell_type": "code",
   "execution_count": 12,
   "metadata": {
    "collapsed": false
   },
   "outputs": [
    {
     "name": "stdout",
     "output_type": "stream",
     "text": [
      "ROC AUC:  0.85431278 (+/-0.02827)\n",
      "Accuracy:  0.77054545 (+/-0.03273)\n"
     ]
    }
   ],
   "source": [
    "df_undersampled = pd.read_csv('./data/cs-train_undersampled.csv').drop('Unnamed: 0', axis=1)\n",
    "svm_gridsearch_cv(df_undersampled, 10, 0.05, svc_params)"
   ]
  }
 ],
 "metadata": {
  "kernelspec": {
   "display_name": "Python 2",
   "language": "python",
   "name": "python2"
  },
  "language_info": {
   "codemirror_mode": {
    "name": "ipython",
    "version": 2
   },
   "file_extension": ".py",
   "mimetype": "text/x-python",
   "name": "python",
   "nbconvert_exporter": "python",
   "pygments_lexer": "ipython2",
   "version": "2.7.10"
  }
 },
 "nbformat": 4,
 "nbformat_minor": 0
}
