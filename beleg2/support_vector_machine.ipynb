{
 "cells": [
  {
   "cell_type": "markdown",
   "metadata": {},
   "source": [
    "#Support Vector Machine for Credit Data"
   ]
  },
  {
   "cell_type": "code",
   "execution_count": 45,
   "metadata": {
    "collapsed": true
   },
   "outputs": [],
   "source": [
    "import pandas as pd\n",
    "import numpy as np\n",
    "from sklearn.svm import SVC\n",
    "from sklearn.grid_search import GridSearchCV\n",
    "from sklearn.cross_validation import cross_val_score, ShuffleSplit\n",
    "from sklearn.preprocessing import StandardScaler\n",
    "import sklearn as sk\n",
    "from pprint import pprint"
   ]
  },
  {
   "cell_type": "code",
   "execution_count": 46,
   "metadata": {
    "collapsed": true
   },
   "outputs": [],
   "source": [
    "from scipy.stats import sem\n",
    "\n",
    "def mean_score(scores):\n",
    "    return ('Mean score: {0:.3f} (+/-{1:.3f})').format(np.mean(scores), sem(scores))"
   ]
  },
  {
   "cell_type": "code",
   "execution_count": 47,
   "metadata": {
    "collapsed": false
   },
   "outputs": [],
   "source": [
    "def test_svm(train_size, svm, df):\n",
    "    train, test = sk.cross_validation.train_test_split(df, train_size=0.1)\n",
    "    y = train['SeriousDlqin2yrs']\n",
    "    X = train.drop('SeriousDlqin2yrs', axis=1)\n",
    "    scaler = StandardScaler()\n",
    "    X = scaler.fit_transform(X)\n",
    "    y_test = test['SeriousDlqin2yrs']\n",
    "    X_test = test.drop('SeriousDlqin2yrs', 1)\n",
    "    X_test = scaler.fit_transform(X_test)\n",
    "    svm.fit(X, y)\n",
    "    print 'roc auc score: ' + str(sk.metrics.roc_auc_score(y_test, svm.predict_proba(X_test).T[1]))\n",
    "    print 'Accuracy: ' + str(svm.score(X_test, y_test))"
   ]
  },
  {
   "cell_type": "code",
   "execution_count": 48,
   "metadata": {
    "collapsed": false
   },
   "outputs": [
    {
     "name": "stdout",
     "output_type": "stream",
     "text": [
      "roc auc score: 0.687750916462\n",
      "Accuracy: 0.9335096111\n"
     ]
    }
   ],
   "source": [
    "df_clean = pd.read_csv('./data/cs-train_clean.csv').drop('Unnamed: 0', axis=1)\n",
    "svc = SVC(kernel='rbf', C=1, gamma=0.001, probability=True)\n",
    "test_svm(0.01, svc, df_clean)"
   ]
  },
  {
   "cell_type": "markdown",
   "metadata": {},
   "source": [
    "while tweaking the parameters for svm, we noticed an increase of preciscion proportional to an increased number of training samples. However, processing 5% samples, already takes abaout 10 minutes on my machine."
   ]
  },
  {
   "cell_type": "markdown",
   "metadata": {},
   "source": [
    "Anyhow, this way of testing is not that efficient at all, we still don't know which params to use, to get a descent result. So we will try a GridSearch. We took the parameter range from a tutorial."
   ]
  },
  {
   "cell_type": "markdown",
   "metadata": {},
   "source": [
    "##Grid Search"
   ]
  },
  {
   "cell_type": "code",
   "execution_count": 49,
   "metadata": {
    "collapsed": true
   },
   "outputs": [],
   "source": [
    "def svm_grid_search(train_size, svc_params, df):\n",
    "    train, test = sk.cross_validation.train_test_split(df, train_size=train_size)\n",
    "    X_train = train.drop('SeriousDlqin2yrs', axis=1)\n",
    "    y_train = train.SeriousDlqin2yrs \n",
    "    scaler = StandardScaler()\n",
    "    X_train = scaler.fit_transform(X_train)\n",
    "    y_test = test['SeriousDlqin2yrs']\n",
    "    X_test = test.drop('SeriousDlqin2yrs', 1)\n",
    "    X_test = scaler.fit_transform(X_test)\n",
    "    gs_svc = GridSearchCV(SVC(), svc_params, cv = 3, n_jobs=-1)\n",
    "    %time gs_svc.fit(X_train, y_train)\n",
    "    scv=gs_svc.best_estimator_\n",
    "    svc.fit(X_train, y_train)\n",
    "    print 'roc auc score: ' + str(sk.metrics.roc_auc_score(y_test, svc.predict_proba(X_test).T[1]))\n",
    "    print 'Accuracy: ' + str(svc.score(X_test, y_test))"
   ]
  },
  {
   "cell_type": "code",
   "execution_count": 50,
   "metadata": {
    "collapsed": false
   },
   "outputs": [],
   "source": [
    "svc_params = {\n",
    "    'C': np.logspace(-1, 2, 4),\n",
    "    'gamma': np.logspace(-4, 0, 5),\n",
    "    'probability': [True]\n",
    "}"
   ]
  },
  {
   "cell_type": "markdown",
   "metadata": {},
   "source": [
    "##Cleaned Data"
   ]
  },
  {
   "cell_type": "code",
   "execution_count": 51,
   "metadata": {
    "collapsed": false
   },
   "outputs": [
    {
     "name": "stdout",
     "output_type": "stream",
     "text": [
      "CPU times: user 248 ms, sys: 45.1 ms, total: 294 ms\n",
      "Wall time: 2.61 s\n",
      "roc auc score: 0.382724914732\n",
      "Accuracy: 0.933220796759\n"
     ]
    }
   ],
   "source": [
    "df_clean = pd.read_csv('./data/cs-train_clean.csv').drop('Unnamed: 0', axis=1)\n",
    "svm_grid_search(0.01, svc_params, df_clean)"
   ]
  },
  {
   "cell_type": "markdown",
   "metadata": {},
   "source": [
    "##Cropped Data"
   ]
  },
  {
   "cell_type": "code",
   "execution_count": 52,
   "metadata": {
    "collapsed": false
   },
   "outputs": [
    {
     "name": "stdout",
     "output_type": "stream",
     "text": [
      "CPU times: user 310 ms, sys: 37 ms, total: 347 ms\n",
      "Wall time: 2.03 s\n",
      "roc auc score: 0.751016439669\n",
      "Accuracy: 0.930694482938\n"
     ]
    }
   ],
   "source": [
    "df_cropped = pd.read_csv('./data/cs-train_cropped.csv').drop('Unnamed: 0', axis=1)\n",
    "svm_grid_search(0.01, svc_params, df_cropped)"
   ]
  },
  {
   "cell_type": "markdown",
   "metadata": {},
   "source": [
    "##Oversampled Data"
   ]
  },
  {
   "cell_type": "code",
   "execution_count": 53,
   "metadata": {
    "collapsed": false
   },
   "outputs": [
    {
     "name": "stdout",
     "output_type": "stream",
     "text": [
      "CPU times: user 2.29 s, sys: 49.5 ms, total: 2.34 s\n",
      "Wall time: 14.4 s\n",
      "roc auc score: 0.652019125256\n",
      "Accuracy: 0.602464872589\n"
     ]
    }
   ],
   "source": [
    "df_oversampled = pd.read_csv('./data/cs-train_oversampled.csv').drop('Unnamed: 0', axis=1)\n",
    "svm_grid_search(0.01, svc_params, df_oversampled)"
   ]
  },
  {
   "cell_type": "markdown",
   "metadata": {},
   "source": [
    "## Undersampled Data"
   ]
  },
  {
   "cell_type": "code",
   "execution_count": 54,
   "metadata": {
    "collapsed": false
   },
   "outputs": [
    {
     "name": "stdout",
     "output_type": "stream",
     "text": [
      "CPU times: user 174 ms, sys: 25.5 ms, total: 199 ms\n",
      "Wall time: 272 ms\n",
      "roc auc score: 0.715977678677\n",
      "Accuracy: 0.49972804738\n"
     ]
    }
   ],
   "source": [
    "df_undersampled = pd.read_csv('./data/cs-train_undersampled.csv').drop('Unnamed: 0', axis=1)\n",
    "svm_grid_search(0.01, svc_params, df_undersampled)"
   ]
  },
  {
   "cell_type": "code",
   "execution_count": null,
   "metadata": {
    "collapsed": true
   },
   "outputs": [],
   "source": []
  }
 ],
 "metadata": {
  "kernelspec": {
   "display_name": "Python 2",
   "language": "python",
   "name": "python2"
  },
  "language_info": {
   "codemirror_mode": {
    "name": "ipython",
    "version": 2
   },
   "file_extension": ".py",
   "mimetype": "text/x-python",
   "name": "python",
   "nbconvert_exporter": "python",
   "pygments_lexer": "ipython2",
   "version": "2.7.10"
  }
 },
 "nbformat": 4,
 "nbformat_minor": 0
}
