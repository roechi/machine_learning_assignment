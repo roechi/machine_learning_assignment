{
 "cells": [
  {
   "cell_type": "markdown",
   "metadata": {},
   "source": [
    "#Random Forest Classifier"
   ]
  },
  {
   "cell_type": "code",
   "execution_count": 1,
   "metadata": {
    "collapsed": false
   },
   "outputs": [],
   "source": [
    "from sklearn.ensemble import RandomForestClassifier\n",
    "from sklearn.cross_validation import train_test_split\n",
    "from sklearn.metrics import roc_auc_score\n",
    "import pandas as pd\n",
    "import numpy as np\n",
    "from pprint import pprint"
   ]
  },
  {
   "cell_type": "code",
   "execution_count": 2,
   "metadata": {
    "collapsed": false
   },
   "outputs": [],
   "source": [
    "df = pd.read_csv('./data/cs-train_clean.csv')\n",
    "df = df.drop(['Unnamed: 0', 'Unnamed: 0.1'], axis=1)\n",
    "train, test = train_test_split(df, train_size=0.75)\n",
    "X = train.drop(['SeriousDlqin2yrs'], axis=1)\n",
    "y = train.SeriousDlqin2yrs\n",
    "X_test = test.drop('SeriousDlqin2yrs', axis=1)\n",
    "y_test = test.SeriousDlqin2yrs"
   ]
  },
  {
   "cell_type": "code",
   "execution_count": 3,
   "metadata": {
    "collapsed": false
   },
   "outputs": [
    {
     "data": {
      "text/plain": [
       "<bound method DataFrame.describe of         SeriousDlqin2yrs  RevolvingUtilizationOfUnsecuredLines  age  \\\n",
       "0                      1                              0.766127   45   \n",
       "1                      0                              0.957151   40   \n",
       "2                      0                              0.658180   38   \n",
       "3                      0                              0.233810   30   \n",
       "4                      0                              0.907239   49   \n",
       "5                      0                              0.213179   74   \n",
       "6                      0                              0.305682   57   \n",
       "7                      0                              0.754464   39   \n",
       "8                      0                              0.116951   27   \n",
       "9                      0                              0.189169   57   \n",
       "10                     0                              0.644226   30   \n",
       "11                     0                              0.018798   51   \n",
       "12                     0                              0.010352   46   \n",
       "13                     1                              0.964673   40   \n",
       "14                     0                              0.019657   76   \n",
       "15                     0                              0.548458   64   \n",
       "16                     0                              0.061086   78   \n",
       "17                     0                              0.166284   53   \n",
       "18                     0                              0.221813   43   \n",
       "19                     0                              0.602794   25   \n",
       "20                     0                              0.200923   43   \n",
       "21                     1                              0.025656   38   \n",
       "22                     0                              1.000000   39   \n",
       "23                     0                              0.075427   32   \n",
       "24                     0                              0.046560   58   \n",
       "25                     1                              0.392248   50   \n",
       "26                     0                              0.052436   58   \n",
       "27                     0                              0.034421   69   \n",
       "28                     0                              0.452516   24   \n",
       "29                     0                              0.392995   58   \n",
       "...                  ...                                   ...  ...   \n",
       "149565                 0                              0.025449   58   \n",
       "149566                 0                              0.058001   83   \n",
       "149567                 0                              0.071273   42   \n",
       "149568                 0                              1.026395   44   \n",
       "149569                 0                              0.962721   61   \n",
       "149570                 0                              0.022088   58   \n",
       "149571                 0                              0.000627   76   \n",
       "149572                 0                              0.236450   29   \n",
       "149573                 0                              0.917635   52   \n",
       "149574                 1                              0.224711   55   \n",
       "149575                 0                              0.067644   64   \n",
       "149576                 0                              0.810012   43   \n",
       "149577                 0                              0.021046   37   \n",
       "149578                 0                              0.002485   82   \n",
       "149579                 0                              0.037548   84   \n",
       "149580                 0                              0.954409   26   \n",
       "149581                 0                              0.168102   49   \n",
       "149582                 0                              1.000000   28   \n",
       "149583                 0                              0.902051   31   \n",
       "149584                 0                              0.013356   62   \n",
       "149585                 0                              0.055518   46   \n",
       "149586                 0                              0.104112   59   \n",
       "149587                 0                              0.871976   50   \n",
       "149588                 0                              1.000000   22   \n",
       "149589                 0                              0.385742   50   \n",
       "149590                 0                              0.040674   74   \n",
       "149591                 0                              0.299745   44   \n",
       "149592                 0                              0.246044   58   \n",
       "149593                 0                              0.000000   30   \n",
       "149594                 0                              0.850283   64   \n",
       "\n",
       "        NumberOfTime30-59DaysPastDueNotWorse    DebtRatio  MonthlyIncome  \\\n",
       "0                                          2     0.802982    9120.000000   \n",
       "1                                          0     0.121876    2600.000000   \n",
       "2                                          1     0.085113    3042.000000   \n",
       "3                                          0     0.036050    3300.000000   \n",
       "4                                          1     0.024926   63588.000000   \n",
       "5                                          0     0.375607    3500.000000   \n",
       "6                                          0  5710.000000    6670.221237   \n",
       "7                                          0     0.209940    3500.000000   \n",
       "8                                          0    46.000000    6670.221237   \n",
       "9                                          0     0.606291   23684.000000   \n",
       "10                                         0     0.309476    2500.000000   \n",
       "11                                         0     0.531529    6501.000000   \n",
       "12                                         0     0.298354   12454.000000   \n",
       "13                                         3     0.382965   13700.000000   \n",
       "14                                         0   477.000000       0.000000   \n",
       "15                                         0     0.209892   11362.000000   \n",
       "16                                         0  2058.000000    6670.221237   \n",
       "17                                         0     0.188274    8800.000000   \n",
       "18                                         0     0.527888    3280.000000   \n",
       "19                                         0     0.065868     333.000000   \n",
       "20                                         0     0.430046   12300.000000   \n",
       "21                                         0     0.475841    3000.000000   \n",
       "22                                         0     0.241104    2500.000000   \n",
       "23                                         0     0.085512    7916.000000   \n",
       "24                                         0     0.241622    2416.000000   \n",
       "25                                         0     1.595253    4676.000000   \n",
       "26                                         0     0.097672    8333.000000   \n",
       "27                                         0     0.042383    2500.000000   \n",
       "28                                         0     0.011761    3400.000000   \n",
       "29                                         2     0.436103    5500.000000   \n",
       "...                                      ...          ...            ...   \n",
       "149565                                     0     0.253855   15500.000000   \n",
       "149566                                     0     0.013997    5000.000000   \n",
       "149567                                     0     0.008638    6945.000000   \n",
       "149568                                     0     0.494819    5500.000000   \n",
       "149569                                     2     0.603479    5000.000000   \n",
       "149570                                     0  2716.000000    6670.221237   \n",
       "149571                                     0    60.000000    6670.221237   \n",
       "149572                                     0   349.000000    6670.221237   \n",
       "149573                                     2     0.259496    2500.000000   \n",
       "149574                                     0     0.057235    8700.000000   \n",
       "149575                                     0     0.254976    5525.000000   \n",
       "149576                                     0     0.121752    6849.000000   \n",
       "149577                                     0     0.250272    2760.000000   \n",
       "149578                                     0     0.000800    5000.000000   \n",
       "149579                                     0    25.000000    6670.221237   \n",
       "149580                                     0     0.324962    1950.000000   \n",
       "149581                                     0     0.080384    5000.000000   \n",
       "149582                                     0     0.055692    3249.000000   \n",
       "149583                                     1     0.347924    7515.000000   \n",
       "149584                                     0     0.001408    9233.000000   \n",
       "149585                                     0     0.609779    4335.000000   \n",
       "149586                                     0     0.477658   10316.000000   \n",
       "149587                                     0  4132.000000    6670.221237   \n",
       "149588                                     0     0.000000     820.000000   \n",
       "149589                                     0     0.404293    3400.000000   \n",
       "149590                                     0     0.225131    2100.000000   \n",
       "149591                                     0     0.716562    5584.000000   \n",
       "149592                                     0  3870.000000    6670.221237   \n",
       "149593                                     0     0.000000    5716.000000   \n",
       "149594                                     0     0.249908    8158.000000   \n",
       "\n",
       "        NumberOfOpenCreditLinesAndLoans  NumberOfTimes90DaysLate  \\\n",
       "0                                    13                        0   \n",
       "1                                     4                        0   \n",
       "2                                     2                        1   \n",
       "3                                     5                        0   \n",
       "4                                     7                        0   \n",
       "5                                     3                        0   \n",
       "6                                     8                        0   \n",
       "7                                     8                        0   \n",
       "8                                     2                        0   \n",
       "9                                     9                        0   \n",
       "10                                    5                        0   \n",
       "11                                    7                        0   \n",
       "12                                   13                        0   \n",
       "13                                    9                        3   \n",
       "14                                    6                        0   \n",
       "15                                    7                        0   \n",
       "16                                   10                        0   \n",
       "17                                    7                        0   \n",
       "18                                    7                        0   \n",
       "19                                    2                        0   \n",
       "20                                   10                        0   \n",
       "21                                    7                        0   \n",
       "22                                    4                        0   \n",
       "23                                    6                        0   \n",
       "24                                    9                        0   \n",
       "25                                   14                        0   \n",
       "26                                   22                        0   \n",
       "27                                   17                        0   \n",
       "28                                    1                        0   \n",
       "29                                   15                        0   \n",
       "...                                 ...                      ...   \n",
       "149565                                7                        0   \n",
       "149566                                6                        0   \n",
       "149567                                3                        0   \n",
       "149568                                7                        0   \n",
       "149569                               11                        0   \n",
       "149570                                8                        0   \n",
       "149571                                5                        0   \n",
       "149572                                3                        0   \n",
       "149573                                4                        0   \n",
       "149574                                7                        0   \n",
       "149575                               12                        0   \n",
       "149576                                4                        0   \n",
       "149577                                8                        0   \n",
       "149578                                5                        0   \n",
       "149579                                5                        0   \n",
       "149580                                4                        0   \n",
       "149581                               16                        0   \n",
       "149582                                3                        1   \n",
       "149583                               10                        0   \n",
       "149584                                4                        0   \n",
       "149585                                7                        0   \n",
       "149586                               10                        0   \n",
       "149587                               11                        0   \n",
       "149588                                1                        0   \n",
       "149589                                7                        0   \n",
       "149590                                4                        0   \n",
       "149591                                4                        0   \n",
       "149592                               18                        0   \n",
       "149593                                4                        0   \n",
       "149594                                8                        0   \n",
       "\n",
       "        NumberRealEstateLoansOrLines  NumberOfTime60-89DaysPastDueNotWorse  \\\n",
       "0                                  6                                     0   \n",
       "1                                  0                                     0   \n",
       "2                                  0                                     0   \n",
       "3                                  0                                     0   \n",
       "4                                  1                                     0   \n",
       "5                                  1                                     0   \n",
       "6                                  3                                     0   \n",
       "7                                  0                                     0   \n",
       "8                                  0                                     0   \n",
       "9                                  4                                     0   \n",
       "10                                 0                                     0   \n",
       "11                                 2                                     0   \n",
       "12                                 2                                     0   \n",
       "13                                 1                                     1   \n",
       "14                                 1                                     0   \n",
       "15                                 1                                     0   \n",
       "16                                 2                                     0   \n",
       "17                                 0                                     0   \n",
       "18                                 1                                     0   \n",
       "19                                 0                                     0   \n",
       "20                                 2                                     0   \n",
       "21                                 1                                     0   \n",
       "22                                 0                                     0   \n",
       "23                                 0                                     0   \n",
       "24                                 1                                     0   \n",
       "25                                 3                                     0   \n",
       "26                                 1                                     0   \n",
       "27                                 0                                     0   \n",
       "28                                 0                                     0   \n",
       "29                                 1                                     0   \n",
       "...                              ...                                   ...   \n",
       "149565                             2                                     0   \n",
       "149566                             0                                     0   \n",
       "149567                             0                                     0   \n",
       "149568                             1                                     0   \n",
       "149569                             1                                     0   \n",
       "149570                             2                                     0   \n",
       "149571                             0                                     0   \n",
       "149572                             0                                     0   \n",
       "149573                             0                                     0   \n",
       "149574                             0                                     0   \n",
       "149575                             1                                     0   \n",
       "149576                             0                                     0   \n",
       "149577                             0                                     0   \n",
       "149578                             0                                     0   \n",
       "149579                             0                                     0   \n",
       "149580                             0                                     0   \n",
       "149581                             0                                     0   \n",
       "149582                             0                                     0   \n",
       "149583                             1                                     0   \n",
       "149584                             0                                     0   \n",
       "149585                             1                                     0   \n",
       "149586                             2                                     0   \n",
       "149587                             1                                     0   \n",
       "149588                             0                                     0   \n",
       "149589                             0                                     0   \n",
       "149590                             1                                     0   \n",
       "149591                             1                                     0   \n",
       "149592                             1                                     0   \n",
       "149593                             0                                     0   \n",
       "149594                             2                                     0   \n",
       "\n",
       "        NumberOfDependents  \n",
       "0                 2.000000  \n",
       "1                 1.000000  \n",
       "2                 0.000000  \n",
       "3                 0.000000  \n",
       "4                 0.000000  \n",
       "5                 1.000000  \n",
       "6                 0.000000  \n",
       "7                 0.000000  \n",
       "8                 0.757222  \n",
       "9                 2.000000  \n",
       "10                0.000000  \n",
       "11                2.000000  \n",
       "12                2.000000  \n",
       "13                2.000000  \n",
       "14                0.000000  \n",
       "15                2.000000  \n",
       "16                0.000000  \n",
       "17                0.000000  \n",
       "18                2.000000  \n",
       "19                0.000000  \n",
       "20                0.000000  \n",
       "21                2.000000  \n",
       "22                0.000000  \n",
       "23                0.000000  \n",
       "24                0.000000  \n",
       "25                1.000000  \n",
       "26                0.000000  \n",
       "27                1.000000  \n",
       "28                0.000000  \n",
       "29                0.000000  \n",
       "...                    ...  \n",
       "149565            2.000000  \n",
       "149566            0.000000  \n",
       "149567            1.000000  \n",
       "149568            1.000000  \n",
       "149569            0.000000  \n",
       "149570            0.000000  \n",
       "149571            0.000000  \n",
       "149572            0.000000  \n",
       "149573            0.000000  \n",
       "149574            0.000000  \n",
       "149575            0.000000  \n",
       "149576            4.000000  \n",
       "149577            3.000000  \n",
       "149578            0.000000  \n",
       "149579            0.000000  \n",
       "149580            0.000000  \n",
       "149581            1.000000  \n",
       "149582            0.000000  \n",
       "149583            0.000000  \n",
       "149584            3.000000  \n",
       "149585            2.000000  \n",
       "149586            0.000000  \n",
       "149587            3.000000  \n",
       "149588            0.000000  \n",
       "149589            0.000000  \n",
       "149590            0.000000  \n",
       "149591            2.000000  \n",
       "149592            0.000000  \n",
       "149593            0.000000  \n",
       "149594            0.000000  \n",
       "\n",
       "[149595 rows x 11 columns]>"
      ]
     },
     "execution_count": 3,
     "metadata": {},
     "output_type": "execute_result"
    }
   ],
   "source": [
    "df.describe"
   ]
  },
  {
   "cell_type": "code",
   "execution_count": 4,
   "metadata": {
    "collapsed": true
   },
   "outputs": [],
   "source": [
    "forest = RandomForestClassifier(n_estimators=100, n_jobs=-1)"
   ]
  },
  {
   "cell_type": "code",
   "execution_count": 5,
   "metadata": {
    "collapsed": false
   },
   "outputs": [],
   "source": [
    "forest = forest.fit(X,y)"
   ]
  },
  {
   "cell_type": "code",
   "execution_count": 6,
   "metadata": {
    "collapsed": false
   },
   "outputs": [
    {
     "data": {
      "text/plain": [
       "0.93553303564266421"
      ]
     },
     "execution_count": 6,
     "metadata": {},
     "output_type": "execute_result"
    }
   ],
   "source": [
    "forest.score(X_test, y_test)"
   ]
  },
  {
   "cell_type": "code",
   "execution_count": 7,
   "metadata": {
    "collapsed": false
   },
   "outputs": [
    {
     "data": {
      "text/plain": [
       "array([ 0.19272959,  0.12774747,  0.05229734,  0.17719981,  0.14470914,\n",
       "        0.08845331,  0.08451133,  0.03406061,  0.0535762 ,  0.0447152 ])"
      ]
     },
     "execution_count": 7,
     "metadata": {},
     "output_type": "execute_result"
    }
   ],
   "source": [
    "forest.feature_importances_"
   ]
  },
  {
   "cell_type": "code",
   "execution_count": 8,
   "metadata": {
    "collapsed": false
   },
   "outputs": [
    {
     "data": {
      "text/plain": [
       "10"
      ]
     },
     "execution_count": 8,
     "metadata": {},
     "output_type": "execute_result"
    }
   ],
   "source": [
    "forest.n_features_"
   ]
  },
  {
   "cell_type": "markdown",
   "metadata": {},
   "source": [
    "Features sorted by importance:"
   ]
  },
  {
   "cell_type": "code",
   "execution_count": 23,
   "metadata": {
    "collapsed": false
   },
   "outputs": [
    {
     "name": "stdout",
     "output_type": "stream",
     "text": [
      "RevolvingUtilizationOfUnsecuredLines\n",
      "DebtRatio\n",
      "MonthlyIncome\n",
      "age\n",
      "NumberOfOpenCreditLinesAndLoans\n",
      "NumberOfTimes90DaysLate\n",
      "NumberOfTime30-59DaysPastDueNotWorse\n",
      "NumberOfTime60-89DaysPastDueNotWorse\n",
      "NumberRealEstateLoansOrLines\n",
      "NumberOfDependents\n"
     ]
    }
   ],
   "source": [
    "print df.columns[1]\n",
    "print df.columns[4]\n",
    "print df.columns[5]\n",
    "print df.columns[2]\n",
    "print df.columns[6]\n",
    "print df.columns[7]\n",
    "print df.columns[3]\n",
    "print df.columns[9]\n",
    "print df.columns[8]\n",
    "print df.columns[10]"
   ]
  },
  {
   "cell_type": "code",
   "execution_count": null,
   "metadata": {
    "collapsed": true
   },
   "outputs": [],
   "source": []
  }
 ],
 "metadata": {
  "kernelspec": {
   "display_name": "Python 2",
   "language": "python",
   "name": "python2"
  },
  "language_info": {
   "codemirror_mode": {
    "name": "ipython",
    "version": 2
   },
   "file_extension": ".py",
   "mimetype": "text/x-python",
   "name": "python",
   "nbconvert_exporter": "python",
   "pygments_lexer": "ipython2",
   "version": "2.7.10"
  }
 },
 "nbformat": 4,
 "nbformat_minor": 0
}
