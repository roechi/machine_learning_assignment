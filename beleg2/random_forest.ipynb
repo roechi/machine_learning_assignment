{
 "cells": [
  {
   "cell_type": "markdown",
   "metadata": {},
   "source": [
    "#Random Forest Classifier"
   ]
  },
  {
   "cell_type": "code",
   "execution_count": 29,
   "metadata": {
    "collapsed": false
   },
   "outputs": [],
   "source": [
    "from sklearn.ensemble import RandomForestClassifier\n",
    "from sklearn.cross_validation import train_test_split\n",
    "from sklearn.metrics import roc_auc_score\n",
    "from sklearn.preprocessing import StandardScaler\n",
    "import pandas as pd\n",
    "import numpy as np\n",
    "from pprint import pprint"
   ]
  },
  {
   "cell_type": "code",
   "execution_count": 30,
   "metadata": {
    "collapsed": false
   },
   "outputs": [],
   "source": [
    "def test_forest(forest, df):\n",
    "    train, test = train_test_split(df, train_size=0.75)\n",
    "    X = train.drop(['SeriousDlqin2yrs'], axis=1)\n",
    "    y = train.SeriousDlqin2yrs\n",
    "    scaler = StandardScaler()\n",
    "    X = scaler.fit_transform(X)\n",
    "    y_test = test['SeriousDlqin2yrs']\n",
    "    X_test = test.drop('SeriousDlqin2yrs', 1)\n",
    "    X_test = scaler.fit_transform(X_test)\n",
    "    forest = forest.fit(X,y)\n",
    "    score = forest.score(X_test, y_test)\n",
    "    probas = forest.predict_proba(X_test).T[1]\n",
    "    print('roc auc score: ' + str(roc_auc_score(y_test, probas)))\n",
    "    print('accuracy: ' + str(score))\n",
    "    print('feature importance:\\n' + str(forest.feature_importances_))"
   ]
  },
  {
   "cell_type": "code",
   "execution_count": 31,
   "metadata": {
    "collapsed": false
   },
   "outputs": [],
   "source": [
    "df = pd.read_csv('./data/cs-train_clean.csv').drop('Unnamed: 0', axis=1)\n",
    "forest = RandomForestClassifier(n_estimators=100, n_jobs=-1)"
   ]
  },
  {
   "cell_type": "code",
   "execution_count": 32,
   "metadata": {
    "collapsed": false
   },
   "outputs": [
    {
     "name": "stdout",
     "output_type": "stream",
     "text": [
      "roc auc score: 0.825001950438\n",
      "accuracy: 0.934971523303\n",
      "feature importance:\n",
      "[ 0.19232936  0.12821367  0.04975155  0.17445648  0.14495428  0.08888198\n",
      "  0.0938628   0.03415986  0.04830749  0.04508252]\n"
     ]
    }
   ],
   "source": [
    "test_forest(forest, df)"
   ]
  },
  {
   "cell_type": "markdown",
   "metadata": {},
   "source": [
    "Features sorted by importance:"
   ]
  },
  {
   "cell_type": "code",
   "execution_count": 33,
   "metadata": {
    "collapsed": false
   },
   "outputs": [
    {
     "name": "stdout",
     "output_type": "stream",
     "text": [
      "RevolvingUtilizationOfUnsecuredLines\n",
      "DebtRatio\n",
      "MonthlyIncome\n",
      "age\n",
      "NumberOfOpenCreditLinesAndLoans\n",
      "NumberOfTimes90DaysLate\n",
      "NumberOfTime30-59DaysPastDueNotWorse\n",
      "NumberOfTime60-89DaysPastDueNotWorse\n",
      "NumberRealEstateLoansOrLines\n",
      "NumberOfDependents\n"
     ]
    }
   ],
   "source": [
    "print df.columns[1]\n",
    "print df.columns[4]\n",
    "print df.columns[5]\n",
    "print df.columns[2]\n",
    "print df.columns[6]\n",
    "print df.columns[7]\n",
    "print df.columns[3]\n",
    "print df.columns[9]\n",
    "print df.columns[8]\n",
    "print df.columns[10]"
   ]
  },
  {
   "cell_type": "markdown",
   "metadata": {
    "collapsed": true
   },
   "source": [
    "##Cropped Data"
   ]
  },
  {
   "cell_type": "code",
   "execution_count": 34,
   "metadata": {
    "collapsed": false
   },
   "outputs": [
    {
     "name": "stdout",
     "output_type": "stream",
     "text": [
      "roc auc score: 0.813654527286\n",
      "accuracy: 0.931108144192\n",
      "feature importance:\n",
      "[ 0.14017759  0.16365984  0.10133493  0.05056311  0.13930357  0.13193595\n",
      "  0.07598548  0.0861821   0.03037895  0.04274616  0.0377323 ]\n"
     ]
    }
   ],
   "source": [
    "df_cropped = pd.read_csv('./data/cs-train_cropped.csv')\n",
    "test_forest(forest, df_cropped)"
   ]
  },
  {
   "cell_type": "markdown",
   "metadata": {},
   "source": [
    "##Oversampled Data"
   ]
  },
  {
   "cell_type": "code",
   "execution_count": 35,
   "metadata": {
    "collapsed": false
   },
   "outputs": [
    {
     "name": "stdout",
     "output_type": "stream",
     "text": [
      "roc auc score: 0.942754916368\n",
      "accuracy: 0.698685504133\n",
      "feature importance:\n",
      "[ 0.10957642  0.23228013  0.09530621  0.08406246  0.11822968  0.10825619\n",
      "  0.06700237  0.08178562  0.02637625  0.04716514  0.02995953]\n"
     ]
    }
   ],
   "source": [
    "df_oversampled = pd.read_csv('./data/cs-train_oversampled.csv')\n",
    "test_forest(forest, df_oversampled)"
   ]
  },
  {
   "cell_type": "markdown",
   "metadata": {},
   "source": [
    "##Undersampled Data"
   ]
  },
  {
   "cell_type": "code",
   "execution_count": 36,
   "metadata": {
    "collapsed": false
   },
   "outputs": [
    {
     "name": "stdout",
     "output_type": "stream",
     "text": [
      "roc auc score: 0.829679944691\n",
      "accuracy: 0.75735821967\n",
      "feature importance:\n",
      "[ 0.10419749  0.2225059   0.09500152  0.09153371  0.112795    0.10554513\n",
      "  0.07182079  0.08637458  0.03100797  0.04761591  0.03160199]\n"
     ]
    }
   ],
   "source": [
    "df_undersampled = pd.read_csv('./data/cs-train_undersampled.csv')\n",
    "test_forest(forest, df_undersampled)"
   ]
  },
  {
   "cell_type": "code",
   "execution_count": null,
   "metadata": {
    "collapsed": true
   },
   "outputs": [],
   "source": []
  },
  {
   "cell_type": "code",
   "execution_count": null,
   "metadata": {
    "collapsed": true
   },
   "outputs": [],
   "source": []
  }
 ],
 "metadata": {
  "kernelspec": {
   "display_name": "Python 2",
   "language": "python",
   "name": "python2"
  },
  "language_info": {
   "codemirror_mode": {
    "name": "ipython",
    "version": 2
   },
   "file_extension": ".py",
   "mimetype": "text/x-python",
   "name": "python",
   "nbconvert_exporter": "python",
   "pygments_lexer": "ipython2",
   "version": "2.7.10"
  }
 },
 "nbformat": 4,
 "nbformat_minor": 0
}
