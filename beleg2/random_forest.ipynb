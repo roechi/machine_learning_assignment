{
 "cells": [
  {
   "cell_type": "markdown",
   "metadata": {},
   "source": [
    "#Random Forest Classifier"
   ]
  },
  {
   "cell_type": "code",
   "execution_count": null,
   "metadata": {
    "collapsed": false
   },
   "outputs": [],
   "source": [
    "from sklearn.ensemble import RandomForestClassifier\n",
    "from sklearn.cross_validation import train_test_split\n",
    "from sklearn.metrics import roc_auc_score\n",
    "import pandas as pd\n",
    "import numpy as np\n",
    "from pprint import pprint"
   ]
  },
  {
   "cell_type": "code",
   "execution_count": 31,
   "metadata": {
    "collapsed": false
   },
   "outputs": [],
   "source": [
    "def test_forest(forest, df):\n",
    "    train, test = train_test_split(df, train_size=0.75)\n",
    "    X = train.drop(['SeriousDlqin2yrs'], axis=1)\n",
    "    y = train.SeriousDlqin2yrs\n",
    "    X_test = test.drop('SeriousDlqin2yrs', axis=1)\n",
    "    y_test = test.SeriousDlqin2yrs\n",
    "    forest = forest.fit(X,y)\n",
    "    score = forest.score(X_test, y_test)\n",
    "    probas = forest.predict_proba(X_test).T[1]\n",
    "    print('roc auc score: ' + str(roc_auc_score(y_test, probas)))\n",
    "    print('accuracy: ' + str(score))\n",
    "    print('feature importance:\\n' + str(forest.feature_importances_))"
   ]
  },
  {
   "cell_type": "code",
   "execution_count": 36,
   "metadata": {
    "collapsed": false
   },
   "outputs": [],
   "source": [
    "df = pd.read_csv('./data/cs-train_clean.csv').drop('Unnamed: 0', axis=1)\n",
    "forest = RandomForestClassifier(n_estimators=100, n_jobs=-1)"
   ]
  },
  {
   "cell_type": "code",
   "execution_count": 33,
   "metadata": {
    "collapsed": false
   },
   "outputs": [
    {
     "name": "stdout",
     "output_type": "stream",
     "text": [
      "roc auc score: 0.842036617328\n",
      "accuracy: 0.935853899837\n",
      "feature importance:\n",
      "[ 0.19291422  0.12647744  0.05049805  0.17732778  0.14426816  0.08964685\n",
      "  0.09443037  0.03464014  0.04532053  0.04447646]\n"
     ]
    }
   ],
   "source": [
    "test_forest(forest, df)"
   ]
  },
  {
   "cell_type": "markdown",
   "metadata": {},
   "source": [
    "Features sorted by importance:"
   ]
  },
  {
   "cell_type": "code",
   "execution_count": null,
   "metadata": {
    "collapsed": false
   },
   "outputs": [],
   "source": [
    "print df.columns[1]\n",
    "print df.columns[4]\n",
    "print df.columns[5]\n",
    "print df.columns[2]\n",
    "print df.columns[6]\n",
    "print df.columns[7]\n",
    "print df.columns[3]\n",
    "print df.columns[9]\n",
    "print df.columns[8]\n",
    "print df.columns[10]"
   ]
  },
  {
   "cell_type": "markdown",
   "metadata": {
    "collapsed": true
   },
   "source": [
    "##Cropped Data"
   ]
  },
  {
   "cell_type": "code",
   "execution_count": 38,
   "metadata": {
    "collapsed": false
   },
   "outputs": [
    {
     "name": "stdout",
     "output_type": "stream",
     "text": [
      "roc auc score: 0.831893456683\n",
      "accuracy: 0.934515099109\n",
      "feature importance:\n",
      "[ 0.13948149  0.1622565   0.10239999  0.04913207  0.13929036  0.13038705\n",
      "  0.07751095  0.08541254  0.03004633  0.04567744  0.03840527]\n"
     ]
    }
   ],
   "source": [
    "df_cropped = pd.read_csv('./data/cs-train_cropped.csv')\n",
    "test_forest(forest, df_cropped)"
   ]
  },
  {
   "cell_type": "markdown",
   "metadata": {},
   "source": [
    "##Oversampled Data"
   ]
  },
  {
   "cell_type": "code",
   "execution_count": 39,
   "metadata": {
    "collapsed": false
   },
   "outputs": [
    {
     "name": "stdout",
     "output_type": "stream",
     "text": [
      "roc auc score: 0.999999988157\n",
      "accuracy: 0.985980884673\n",
      "feature importance:\n",
      "[ 0.10895288  0.22596046  0.09416358  0.08472982  0.11782135  0.10852832\n",
      "  0.06730898  0.08471193  0.02750123  0.05070066  0.02962078]\n"
     ]
    }
   ],
   "source": [
    "df_oversampled = pd.read_csv('./data/cs-train_oversampled.csv')\n",
    "test_forest(forest, df_oversampled)"
   ]
  },
  {
   "cell_type": "markdown",
   "metadata": {},
   "source": [
    "##Undersampled Data"
   ]
  },
  {
   "cell_type": "code",
   "execution_count": 40,
   "metadata": {
    "collapsed": false
   },
   "outputs": [
    {
     "name": "stdout",
     "output_type": "stream",
     "text": [
      "roc auc score: 0.847192961722\n",
      "accuracy: 0.766929887533\n",
      "feature importance:\n",
      "[ 0.10631963  0.22171748  0.09838904  0.08769412  0.11366583  0.10663804\n",
      "  0.07113796  0.08542824  0.03016923  0.04771843  0.031122  ]\n"
     ]
    }
   ],
   "source": [
    "df_undersampled = pd.read_csv('./data/cs-train_undersampled.csv')\n",
    "test_forest(forest, df_undersampled)"
   ]
  },
  {
   "cell_type": "code",
   "execution_count": null,
   "metadata": {
    "collapsed": true
   },
   "outputs": [],
   "source": []
  }
 ],
 "metadata": {
  "kernelspec": {
   "display_name": "Python 2",
   "language": "python",
   "name": "python2"
  },
  "language_info": {
   "codemirror_mode": {
    "name": "ipython",
    "version": 2
   },
   "file_extension": ".py",
   "mimetype": "text/x-python",
   "name": "python",
   "nbconvert_exporter": "python",
   "pygments_lexer": "ipython2",
   "version": "2.7.10"
  }
 },
 "nbformat": 4,
 "nbformat_minor": 0
}
