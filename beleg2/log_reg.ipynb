{
 "cells": [
  {
   "cell_type": "markdown",
   "metadata": {},
   "source": [
    "#Logistic Regression for Credit Data"
   ]
  },
  {
   "cell_type": "code",
   "execution_count": 10,
   "metadata": {
    "collapsed": false
   },
   "outputs": [],
   "source": [
    "import pandas as pd\n",
    "import numpy as np\n",
    "from sklearn.linear_model import LogisticRegression\n",
    "from sklearn.linear_model import LogisticRegressionCV\n",
    "from sklearn.cross_validation import cross_val_score, ShuffleSplit\n",
    "from sklearn.preprocessing import StandardScaler\n",
    "import sklearn as sk\n",
    "import pyroc"
   ]
  },
  {
   "cell_type": "code",
   "execution_count": 11,
   "metadata": {
    "collapsed": false
   },
   "outputs": [],
   "source": [
    "from scipy.stats import sem\n",
    "\n",
    "def mean_score(text, scores):\n",
    "    return (str(text) + ' {0:.8f} (+/-{1:.5f})').format(np.mean(scores), sem(scores))"
   ]
  },
  {
   "cell_type": "markdown",
   "metadata": {
    "collapsed": true
   },
   "source": [
    "##Cleaned Data"
   ]
  },
  {
   "cell_type": "code",
   "execution_count": 12,
   "metadata": {
    "collapsed": true
   },
   "outputs": [],
   "source": [
    "def test_log_reg(df, n_iter):\n",
    "    auc_scores = []\n",
    "    accs = []\n",
    "    for i in range(0, n_iter):\n",
    "        lr = LogisticRegression()\n",
    "        train, test = sk.cross_validation.train_test_split(df, train_size=0.75, random_state=1)\n",
    "        y = train['SeriousDlqin2yrs']\n",
    "        X = train.drop('SeriousDlqin2yrs', axis=1)\n",
    "        y_test = test['SeriousDlqin2yrs']\n",
    "        X_test = test.drop('SeriousDlqin2yrs', 1)\n",
    "        lr.fit(X, y)\n",
    "        probas = lr.predict_proba(X_test)\n",
    "        auc_scores.append(sk.metrics.roc_auc_score(y_test, probas.T[1]))\n",
    "        accs.append(lr.score(X_test, y_test))\n",
    "    print(mean_score('roc auc score: ', auc_scores))\n",
    "    print(mean_score('Accuracy: ', accs))"
   ]
  },
  {
   "cell_type": "code",
   "execution_count": 13,
   "metadata": {
    "collapsed": false
   },
   "outputs": [],
   "source": [
    "def test_log_reg_cv(df, n_iter):\n",
    "    auc_scores = []\n",
    "    accs = []\n",
    "    for i in range(0, n_iter):\n",
    "        train, test = sk.cross_validation.train_test_split(df, train_size=0.75, random_state=1)\n",
    "        y = train['SeriousDlqin2yrs']\n",
    "        X = train.drop('SeriousDlqin2yrs', axis=1)\n",
    "        y_test = test['SeriousDlqin2yrs']\n",
    "        X_test = test.drop('SeriousDlqin2yrs', 1)\n",
    "        cv_lr = ShuffleSplit(X.shape[0], n_iter=10, test_size=0.25, random_state=1)\n",
    "        lr_cv = LogisticRegressionCV(cv=cv_lr)\n",
    "        lr_cv.fit(X,y)\n",
    "        probas = lr_cv.predict_proba(X_test)\n",
    "        auc_scores.append(sk.metrics.roc_auc_score(y_test, lr_cv.predict_proba(X_test).T[1]))\n",
    "        accs.append(lr_cv.score(X_test, y_test))\n",
    "    print(mean_score('roc auc score: ', auc_scores))\n",
    "    print(mean_score('Accuracy: ', accs))"
   ]
  },
  {
   "cell_type": "code",
   "execution_count": 14,
   "metadata": {
    "collapsed": true
   },
   "outputs": [],
   "source": [
    "def test_both(df, n_iter):\n",
    "    print 'Without CV:'\n",
    "    test_log_reg(df, n_iter)\n",
    "    print '\\nWith CV:'\n",
    "    test_log_reg_cv(df, n_iter)"
   ]
  },
  {
   "cell_type": "markdown",
   "metadata": {},
   "source": [
    "##Cleaned Data"
   ]
  },
  {
   "cell_type": "code",
   "execution_count": 15,
   "metadata": {
    "collapsed": false
   },
   "outputs": [
    {
     "name": "stdout",
     "output_type": "stream",
     "text": [
      "Without CV:\n",
      "roc auc score:  0.68780475 (+/-0.00005)\n",
      "Accuracy:  0.93297949 (+/-0.00002)\n",
      "\n",
      "With CV:\n",
      "roc auc score:  0.68679767 (+/-0.00008)\n",
      "Accuracy:  0.93275221 (+/-0.00000)\n"
     ]
    }
   ],
   "source": [
    "df_clean = pd.read_csv('data/cs-train_clean.csv').drop(['Unnamed: 0'], axis=1)\n",
    "test_both(df_clean, 10)"
   ]
  },
  {
   "cell_type": "markdown",
   "metadata": {
    "collapsed": true
   },
   "source": [
    "##Cropped Data"
   ]
  },
  {
   "cell_type": "code",
   "execution_count": 16,
   "metadata": {
    "collapsed": false
   },
   "outputs": [
    {
     "name": "stdout",
     "output_type": "stream",
     "text": [
      "Without CV:\n",
      "roc auc score:  0.67537069 (+/-0.00168)\n",
      "Accuracy:  0.93153538 (+/-0.00002)\n",
      "\n",
      "With CV:\n",
      "roc auc score:  0.67886055 (+/-0.00006)\n",
      "Accuracy:  0.93156876 (+/-0.00002)\n"
     ]
    }
   ],
   "source": [
    "df_cropped = pd.read_csv('data/cs-train_cropped.csv').drop(['Unnamed: 0'], axis=1)\n",
    "test_both(df_cropped, 10)"
   ]
  },
  {
   "cell_type": "markdown",
   "metadata": {},
   "source": [
    "##Oversampled Data"
   ]
  },
  {
   "cell_type": "code",
   "execution_count": 17,
   "metadata": {
    "collapsed": false
   },
   "outputs": [
    {
     "name": "stdout",
     "output_type": "stream",
     "text": [
      "Without CV:\n",
      "roc auc score:  0.78649721 (+/-0.00069)\n",
      "Accuracy:  0.71259445 (+/-0.00115)\n",
      "\n",
      "With CV:\n",
      "roc auc score:  0.79916801 (+/-0.00012)\n",
      "Accuracy:  0.72265932 (+/-0.00001)\n"
     ]
    }
   ],
   "source": [
    "df_oversampled = pd.read_csv('data/cs-train_oversampled.csv').drop(['Unnamed: 0'], axis=1)\n",
    "test_both(df_oversampled, 10)"
   ]
  },
  {
   "cell_type": "markdown",
   "metadata": {},
   "source": [
    "##Undersampled Data"
   ]
  },
  {
   "cell_type": "code",
   "execution_count": 18,
   "metadata": {
    "collapsed": false
   },
   "outputs": [
    {
     "name": "stdout",
     "output_type": "stream",
     "text": [
      "Without CV:\n",
      "roc auc score:  0.74508098 (+/-0.00264)\n",
      "Accuracy:  0.67565078 (+/-0.00225)\n",
      "\n",
      "With CV:\n",
      "roc auc score:  0.75795545 (+/-0.00199)\n",
      "Accuracy:  0.68924710 (+/-0.00074)\n"
     ]
    }
   ],
   "source": [
    "df_undersampled = pd.read_csv('data/cs-train_undersampled.csv').drop(['Unnamed: 0'], axis=1)\n",
    "test_both(df_undersampled, 10)"
   ]
  },
  {
   "cell_type": "code",
   "execution_count": null,
   "metadata": {
    "collapsed": true
   },
   "outputs": [],
   "source": []
  }
 ],
 "metadata": {
  "kernelspec": {
   "display_name": "Python 2",
   "language": "python",
   "name": "python2"
  },
  "language_info": {
   "codemirror_mode": {
    "name": "ipython",
    "version": 2
   },
   "file_extension": ".py",
   "mimetype": "text/x-python",
   "name": "python",
   "nbconvert_exporter": "python",
   "pygments_lexer": "ipython2",
   "version": "2.7.10"
  }
 },
 "nbformat": 4,
 "nbformat_minor": 0
}
