{
 "cells": [
  {
   "cell_type": "markdown",
   "metadata": {},
   "source": [
    "#Logistic Regression for Credit Data"
   ]
  },
  {
   "cell_type": "code",
   "execution_count": 1,
   "metadata": {
    "collapsed": false
   },
   "outputs": [],
   "source": [
    "import pandas as pd\n",
    "import numpy as np\n",
    "from sklearn.linear_model import LogisticRegression\n",
    "from sklearn.cross_validation import cross_val_score, ShuffleSplit\n",
    "import sklearn as sk"
   ]
  },
  {
   "cell_type": "code",
   "execution_count": 2,
   "metadata": {
    "collapsed": false
   },
   "outputs": [],
   "source": [
    "df = pd.read_csv('data/cs-train_clean.csv')\n",
    "df = df.drop(['Unnamed: 0', 'Unnamed: 0.1'], axis=1)\n",
    "X = df.drop('SeriousDlqin2yrs', axis=1)\n",
    "y = df.SeriousDlqin2yrs"
   ]
  },
  {
   "cell_type": "markdown",
   "metadata": {},
   "source": [
    "##Logistic Regression without cross validation"
   ]
  },
  {
   "cell_type": "code",
   "execution_count": 3,
   "metadata": {
    "collapsed": false
   },
   "outputs": [
    {
     "data": {
      "text/plain": [
       "0.73137442785609286"
      ]
     },
     "execution_count": 3,
     "metadata": {},
     "output_type": "execute_result"
    }
   ],
   "source": [
    "train, test = sk.cross_validation.train_test_split(df, train_size=0.75)\n",
    "y = train['SeriousDlqin2yrs']\n",
    "X = train.drop('SeriousDlqin2yrs', axis=1)\n",
    "LR = LogisticRegression(penalty = 'l1', tol = 0.01)\n",
    "LR.fit(X, y)\n",
    "sk.metrics.roc_auc_score(LR.predict(X), y)\n",
    "y_test = test['SeriousDlqin2yrs']\n",
    "X_test = test.drop('SeriousDlqin2yrs', 1)\n",
    "X_test = X_test.fillna(X_test.mean())\n",
    "test_pred = LR.predict(X_test)\n",
    "roc_auc = sk.metrics.roc_auc_score(test_pred, y_test)\n",
    "roc_auc"
   ]
  },
  {
   "cell_type": "markdown",
   "metadata": {},
   "source": [
    "that is bad. But why? Let's examine the model:"
   ]
  },
  {
   "cell_type": "code",
   "execution_count": 4,
   "metadata": {
    "collapsed": false
   },
   "outputs": [
    {
     "data": {
      "text/plain": [
       "0.74166283771733732"
      ]
     },
     "execution_count": 4,
     "metadata": {},
     "output_type": "execute_result"
    }
   ],
   "source": [
    "train_pred = LR.predict(X)\n",
    "sk.metrics.roc_auc_score(train_pred, y)"
   ]
  },
  {
   "cell_type": "markdown",
   "metadata": {},
   "source": [
    "ok, that is some serious __underfitting__. So let us try again with actual cross validation."
   ]
  },
  {
   "cell_type": "markdown",
   "metadata": {},
   "source": [
    "##Logistic Regression with cross validation"
   ]
  },
  {
   "cell_type": "code",
   "execution_count": 5,
   "metadata": {
    "collapsed": true
   },
   "outputs": [],
   "source": [
    "lr = LogisticRegression(penalty='l2', tol=0.01)\n",
    "cv_lr = ShuffleSplit(X.shape[0], n_iter=10, test_size=0.25, random_state=1)"
   ]
  },
  {
   "cell_type": "code",
   "execution_count": 6,
   "metadata": {
    "collapsed": false
   },
   "outputs": [
    {
     "data": {
      "text/plain": [
       "array([ 0.93293879,  0.93268922,  0.93301009,  0.93390139,  0.933224  ,\n",
       "        0.93194053,  0.93358052,  0.93372313,  0.93375878,  0.93425791])"
      ]
     },
     "execution_count": 6,
     "metadata": {},
     "output_type": "execute_result"
    }
   ],
   "source": [
    "test_scores_lr = cross_val_score(lr, X, y, cv=cv_lr)\n",
    "test_scores_lr"
   ]
  },
  {
   "cell_type": "code",
   "execution_count": 9,
   "metadata": {
    "collapsed": false
   },
   "outputs": [],
   "source": [
    "from scipy.stats import sem\n",
    "\n",
    "def mean_score(scores):\n",
    "    return ('Mean score: {0:.8f} (+/-{1:.5f})').format(np.mean(scores), sem(scores))"
   ]
  },
  {
   "cell_type": "code",
   "execution_count": 10,
   "metadata": {
    "collapsed": false
   },
   "outputs": [
    {
     "name": "stdout",
     "output_type": "stream",
     "text": [
      "Mean score: 0.93330244 (+/-0.00022)\n"
     ]
    }
   ],
   "source": [
    "print mean_score(test_scores_lr)"
   ]
  },
  {
   "cell_type": "code",
   "execution_count": null,
   "metadata": {
    "collapsed": true
   },
   "outputs": [],
   "source": []
  }
 ],
 "metadata": {
  "kernelspec": {
   "display_name": "Python 2",
   "language": "python",
   "name": "python2"
  },
  "language_info": {
   "codemirror_mode": {
    "name": "ipython",
    "version": 2
   },
   "file_extension": ".py",
   "mimetype": "text/x-python",
   "name": "python",
   "nbconvert_exporter": "python",
   "pygments_lexer": "ipython2",
   "version": "2.7.10"
  }
 },
 "nbformat": 4,
 "nbformat_minor": 0
}
