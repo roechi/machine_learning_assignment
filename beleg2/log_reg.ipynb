{
 "cells": [
  {
   "cell_type": "markdown",
   "metadata": {},
   "source": [
    "#Logistic Regression for Credit Data"
   ]
  },
  {
   "cell_type": "code",
   "execution_count": 35,
   "metadata": {
    "collapsed": false
   },
   "outputs": [],
   "source": [
    "import pandas as pd\n",
    "import numpy as np\n",
    "from sklearn.linear_model import LogisticRegression\n",
    "from sklearn.linear_model import LogisticRegressionCV\n",
    "from sklearn.cross_validation import cross_val_score, ShuffleSplit\n",
    "from sklearn.preprocessing import StandardScaler\n",
    "import sklearn as sk\n",
    "import pyroc"
   ]
  },
  {
   "cell_type": "code",
   "execution_count": 50,
   "metadata": {
    "collapsed": false
   },
   "outputs": [],
   "source": [
    "from scipy.stats import sem\n",
    "\n",
    "def mean_score(text, scores):\n",
    "    return (str(text) + ' {0:.8f} (+/-{1:.5f})').format(np.mean(scores), sem(scores))"
   ]
  },
  {
   "cell_type": "markdown",
   "metadata": {
    "collapsed": true
   },
   "source": [
    "##Cleaned Data"
   ]
  },
  {
   "cell_type": "code",
   "execution_count": 59,
   "metadata": {
    "collapsed": true
   },
   "outputs": [],
   "source": [
    "def test_log_reg(df, n_iter):\n",
    "    auc_scores = []\n",
    "    accs = []\n",
    "    for i in range(0, n_iter):\n",
    "        lr = LogisticRegression()\n",
    "        train, test = sk.cross_validation.train_test_split(df, train_size=0.75)\n",
    "        y = train['SeriousDlqin2yrs']\n",
    "        X = train.drop('SeriousDlqin2yrs', axis=1)\n",
    "        y_test = test['SeriousDlqin2yrs']\n",
    "        X_test = test.drop('SeriousDlqin2yrs', 1)\n",
    "        lr.fit(X, y)\n",
    "        probas = lr.predict_proba(X_test)\n",
    "        auc_scores.append(sk.metrics.roc_auc_score(y_test, probas.T[1]))\n",
    "        accs.append(lr.score(X_test, y_test))\n",
    "    print(mean_score('roc auc score: ', auc_scores))\n",
    "    print(mean_score('Accuracy: ', accs))"
   ]
  },
  {
   "cell_type": "code",
   "execution_count": 60,
   "metadata": {
    "collapsed": false
   },
   "outputs": [],
   "source": [
    "def test_log_reg_cv(df, n_iter):\n",
    "    auc_scores = []\n",
    "    accs = []\n",
    "    for i in range(0, n_iter):\n",
    "        train, test = sk.cross_validation.train_test_split(df, train_size=0.75)\n",
    "        y = train['SeriousDlqin2yrs']\n",
    "        X = train.drop('SeriousDlqin2yrs', axis=1)\n",
    "        y_test = test['SeriousDlqin2yrs']\n",
    "        X_test = test.drop('SeriousDlqin2yrs', 1)\n",
    "        cv_lr = ShuffleSplit(X.shape[0], n_iter=10, test_size=0.25, random_state=1)\n",
    "        lr_cv = LogisticRegressionCV(cv=cv_lr)\n",
    "        lr_cv.fit(X,y)\n",
    "        probas = lr_cv.predict_proba(X_test)\n",
    "        auc_scores.append(sk.metrics.roc_auc_score(y_test, lr_cv.predict_proba(X_test).T[1]))\n",
    "        accs.append(lr_cv.score(X_test, y_test))\n",
    "    print(mean_score('roc auc score: ', auc_scores))\n",
    "    print(mean_score('Accuracy: ', accs))"
   ]
  },
  {
   "cell_type": "code",
   "execution_count": 61,
   "metadata": {
    "collapsed": true
   },
   "outputs": [],
   "source": [
    "def test_both(df, n_iter):\n",
    "    print 'Without CV:'\n",
    "    test_log_reg(df, n_iter)\n",
    "    print '\\nWith CV:'\n",
    "    test_log_reg_cv(df, n_iter)"
   ]
  },
  {
   "cell_type": "markdown",
   "metadata": {},
   "source": [
    "##Cleaned Data"
   ]
  },
  {
   "cell_type": "code",
   "execution_count": 62,
   "metadata": {
    "collapsed": false
   },
   "outputs": [
    {
     "name": "stdout",
     "output_type": "stream",
     "text": [
      "Without CV:\n",
      "roc auc score:  0.69582843 (+/-0.00290)\n",
      "Accuracy:  0.93345009 (+/-0.00045)\n",
      "\n",
      "With CV:\n",
      "roc auc score:  0.69631654 (+/-0.00178)\n",
      "Accuracy:  0.93310249 (+/-0.00036)\n"
     ]
    }
   ],
   "source": [
    "df_clean = pd.read_csv('data/cs-train_clean.csv').drop(['Unnamed: 0'], axis=1)\n",
    "test_both(df_clean, 10)"
   ]
  },
  {
   "cell_type": "markdown",
   "metadata": {
    "collapsed": true
   },
   "source": [
    "##Cropped Data"
   ]
  },
  {
   "cell_type": "code",
   "execution_count": 64,
   "metadata": {
    "collapsed": false
   },
   "outputs": [
    {
     "name": "stdout",
     "output_type": "stream",
     "text": [
      "Without CV:\n",
      "roc auc score:  0.68944698 (+/-0.00207)\n",
      "Accuracy:  0.93118158 (+/-0.00032)\n",
      "\n",
      "With CV:\n",
      "roc auc score:  0.68822658 (+/-0.00157)\n",
      "Accuracy:  0.93024700 (+/-0.00039)\n"
     ]
    }
   ],
   "source": [
    "df_cropped = pd.read_csv('data/cs-train_cropped.csv').drop(['Unnamed: 0'], axis=1)\n",
    "test_both(df_cropped, 10)"
   ]
  },
  {
   "cell_type": "markdown",
   "metadata": {},
   "source": [
    "##Oversampled Data"
   ]
  },
  {
   "cell_type": "code",
   "execution_count": 65,
   "metadata": {
    "collapsed": false
   },
   "outputs": [
    {
     "name": "stdout",
     "output_type": "stream",
     "text": [
      "Without CV:\n",
      "roc auc score:  0.78795195 (+/-0.00388)\n",
      "Accuracy:  0.70956608 (+/-0.00710)\n",
      "\n",
      "With CV:\n",
      "roc auc score:  0.80381864 (+/-0.00053)\n",
      "Accuracy:  0.72424625 (+/-0.00071)\n"
     ]
    }
   ],
   "source": [
    "df_oversampled = pd.read_csv('data/cs-train_oversampled.csv').drop(['Unnamed: 0'], axis=1)\n",
    "test_both(df_oversampled, 10)"
   ]
  },
  {
   "cell_type": "markdown",
   "metadata": {},
   "source": [
    "##Undersampled Data"
   ]
  },
  {
   "cell_type": "code",
   "execution_count": 66,
   "metadata": {
    "collapsed": false
   },
   "outputs": [
    {
     "name": "stdout",
     "output_type": "stream",
     "text": [
      "Without CV:\n",
      "roc auc score:  0.76162387 (+/-0.00377)\n",
      "Accuracy:  0.68908690 (+/-0.00364)\n",
      "\n",
      "With CV:\n",
      "roc auc score:  0.79303525 (+/-0.00286)\n",
      "Accuracy:  0.71425711 (+/-0.00286)\n"
     ]
    }
   ],
   "source": [
    "df_undersampled = pd.read_csv('data/cs-train_undersampled.csv').drop(['Unnamed: 0'], axis=1)\n",
    "test_both(df_undersampled, 10)"
   ]
  },
  {
   "cell_type": "code",
   "execution_count": null,
   "metadata": {
    "collapsed": true
   },
   "outputs": [],
   "source": []
  }
 ],
 "metadata": {
  "kernelspec": {
   "display_name": "Python 2",
   "language": "python",
   "name": "python2"
  },
  "language_info": {
   "codemirror_mode": {
    "name": "ipython",
    "version": 2
   },
   "file_extension": ".py",
   "mimetype": "text/x-python",
   "name": "python",
   "nbconvert_exporter": "python",
   "pygments_lexer": "ipython2",
   "version": "2.7.10"
  }
 },
 "nbformat": 4,
 "nbformat_minor": 0
}
